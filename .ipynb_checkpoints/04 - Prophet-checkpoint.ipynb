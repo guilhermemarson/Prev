{
 "cells": [
  {
   "cell_type": "code",
   "execution_count": 2,
   "metadata": {},
   "outputs": [],
   "source": [
    "%matplotlib inline\n",
    "import pandas as pd\n",
    "from pandas import set_option\n",
    "#Limit dataframe exibition to 8 rows\n",
    "set_option(\"display.max_rows\", 5)\n",
    "import scipy as sp\n",
    "import matplotlib.pyplot as plt\n",
    "import seaborn as sns\n",
    "import numpy as np\n",
    "import gc"
   ]
  },
  {
   "cell_type": "markdown",
   "metadata": {},
   "source": [
    "Vamos fazer previsões inicialmente usando dados até 2011, pois 2012 é o ponto que percebemos que a diferença começa a aumentar bastante, então esse aqui seria um cenário mais otimista"
   ]
  },
  {
   "cell_type": "code",
   "execution_count": 31,
   "metadata": {
    "collapsed": true
   },
   "outputs": [],
   "source": [
    "df = pd.read_csv('./processed/regres.csv', encoding='latin1')"
   ]
  },
  {
   "cell_type": "code",
   "execution_count": 32,
   "metadata": {},
   "outputs": [],
   "source": [
    "df.drop('Unnamed: 0', axis=1, inplace=True)"
   ]
  },
  {
   "cell_type": "code",
   "execution_count": 33,
   "metadata": {},
   "outputs": [
    {
     "data": {
      "text/plain": [
       "Index([u'ano', u'dif'], dtype='object')"
      ]
     },
     "execution_count": 33,
     "metadata": {},
     "output_type": "execute_result"
    }
   ],
   "source": [
    "df.columns"
   ]
  },
  {
   "cell_type": "markdown",
   "metadata": {},
   "source": [
    "Para a previsão vamos usar o Prophet, que é uma biblioteca para modelos preditivos do time \"Time Series\" bastante simples de usar"
   ]
  },
  {
   "cell_type": "code",
   "execution_count": 34,
   "metadata": {
    "collapsed": true
   },
   "outputs": [],
   "source": [
    "from fbprophet import Prophet"
   ]
  },
  {
   "cell_type": "code",
   "execution_count": 35,
   "metadata": {
    "collapsed": true
   },
   "outputs": [],
   "source": [
    "m = Prophet()"
   ]
  },
  {
   "cell_type": "code",
   "execution_count": 40,
   "metadata": {
    "collapsed": true
   },
   "outputs": [],
   "source": [
    "df['ds'] = ''"
   ]
  },
  {
   "cell_type": "markdown",
   "metadata": {},
   "source": [
    "Vamos Criar data para cada ano, como sendo o último dia de cada ano"
   ]
  },
  {
   "cell_type": "code",
   "execution_count": 41,
   "metadata": {},
   "outputs": [
    {
     "name": "stderr",
     "output_type": "stream",
     "text": [
      "/home/guilherme/xgboost/lib/python2.7/site-packages/ipykernel_launcher.py:2: SettingWithCopyWarning: \n",
      "A value is trying to be set on a copy of a slice from a DataFrame\n",
      "\n",
      "See the caveats in the documentation: http://pandas.pydata.org/pandas-docs/stable/indexing.html#indexing-view-versus-copy\n",
      "  \n"
     ]
    }
   ],
   "source": [
    "for i in range(len(df)):\n",
    "    df['ds'][i] = str(df['ano'][i])+'-12-31'"
   ]
  },
  {
   "cell_type": "code",
   "execution_count": 43,
   "metadata": {},
   "outputs": [],
   "source": [
    "df.drop('ano', axis=1, inplace=True)"
   ]
  },
  {
   "cell_type": "code",
   "execution_count": 48,
   "metadata": {},
   "outputs": [],
   "source": [
    "df = df.rename(columns={'dif':'y'})"
   ]
  },
  {
   "cell_type": "code",
   "execution_count": 49,
   "metadata": {},
   "outputs": [
    {
     "name": "stdout",
     "output_type": "stream",
     "text": [
      "Disabling weekly seasonality. Run prophet with weekly_seasonality=True to override this.\n"
     ]
    },
    {
     "data": {
      "text/plain": [
       "<fbprophet.forecaster.Prophet at 0x7f75cd6575d0>"
      ]
     },
     "execution_count": 49,
     "metadata": {},
     "output_type": "execute_result"
    }
   ],
   "source": [
    "m.fit(df)"
   ]
  },
  {
   "cell_type": "code",
   "execution_count": 61,
   "metadata": {},
   "outputs": [],
   "source": [
    "future = m.make_future_dataframe(periods=20, freq='A')"
   ]
  },
  {
   "cell_type": "code",
   "execution_count": 62,
   "metadata": {},
   "outputs": [],
   "source": [
    "forecast = m.predict(future)"
   ]
  },
  {
   "cell_type": "code",
   "execution_count": 63,
   "metadata": {},
   "outputs": [
    {
     "data": {
      "text/html": [
       "<div>\n",
       "<table border=\"1\" class=\"dataframe\">\n",
       "  <thead>\n",
       "    <tr style=\"text-align: right;\">\n",
       "      <th></th>\n",
       "      <th>ds</th>\n",
       "      <th>t</th>\n",
       "      <th>trend</th>\n",
       "      <th>seasonal_lower</th>\n",
       "      <th>seasonal_upper</th>\n",
       "      <th>trend_lower</th>\n",
       "      <th>trend_upper</th>\n",
       "      <th>yhat_lower</th>\n",
       "      <th>yhat_upper</th>\n",
       "      <th>yearly</th>\n",
       "      <th>yearly_lower</th>\n",
       "      <th>yearly_upper</th>\n",
       "      <th>seasonal</th>\n",
       "      <th>yhat</th>\n",
       "    </tr>\n",
       "  </thead>\n",
       "  <tbody>\n",
       "    <tr>\n",
       "      <th>27</th>\n",
       "      <td>2027-12-31</td>\n",
       "      <td>2.454817</td>\n",
       "      <td>1.503989e+10</td>\n",
       "      <td>-5.692902e+08</td>\n",
       "      <td>-5.692902e+08</td>\n",
       "      <td>1.503989e+10</td>\n",
       "      <td>1.503989e+10</td>\n",
       "      <td>9.537592e+09</td>\n",
       "      <td>1.939605e+10</td>\n",
       "      <td>-5.692902e+08</td>\n",
       "      <td>-5.692902e+08</td>\n",
       "      <td>-5.692902e+08</td>\n",
       "      <td>-5.692902e+08</td>\n",
       "      <td>1.447060e+10</td>\n",
       "    </tr>\n",
       "    <tr>\n",
       "      <th>28</th>\n",
       "      <td>2028-12-31</td>\n",
       "      <td>2.545930</td>\n",
       "      <td>1.594630e+10</td>\n",
       "      <td>-5.692576e+08</td>\n",
       "      <td>-5.692576e+08</td>\n",
       "      <td>1.594630e+10</td>\n",
       "      <td>1.594631e+10</td>\n",
       "      <td>1.022963e+10</td>\n",
       "      <td>2.011454e+10</td>\n",
       "      <td>-5.692576e+08</td>\n",
       "      <td>-5.692576e+08</td>\n",
       "      <td>-5.692576e+08</td>\n",
       "      <td>-5.692576e+08</td>\n",
       "      <td>1.537705e+10</td>\n",
       "    </tr>\n",
       "    <tr>\n",
       "      <th>29</th>\n",
       "      <td>2029-12-31</td>\n",
       "      <td>2.636794</td>\n",
       "      <td>1.685024e+10</td>\n",
       "      <td>-5.696740e+08</td>\n",
       "      <td>-5.696740e+08</td>\n",
       "      <td>1.685024e+10</td>\n",
       "      <td>1.685024e+10</td>\n",
       "      <td>1.106515e+10</td>\n",
       "      <td>2.188953e+10</td>\n",
       "      <td>-5.696740e+08</td>\n",
       "      <td>-5.696740e+08</td>\n",
       "      <td>-5.696740e+08</td>\n",
       "      <td>-5.696740e+08</td>\n",
       "      <td>1.628057e+10</td>\n",
       "    </tr>\n",
       "    <tr>\n",
       "      <th>30</th>\n",
       "      <td>2030-12-31</td>\n",
       "      <td>2.727657</td>\n",
       "      <td>1.775418e+10</td>\n",
       "      <td>-5.696848e+08</td>\n",
       "      <td>-5.696848e+08</td>\n",
       "      <td>1.775417e+10</td>\n",
       "      <td>1.775418e+10</td>\n",
       "      <td>1.192833e+10</td>\n",
       "      <td>2.183369e+10</td>\n",
       "      <td>-5.696848e+08</td>\n",
       "      <td>-5.696848e+08</td>\n",
       "      <td>-5.696848e+08</td>\n",
       "      <td>-5.696848e+08</td>\n",
       "      <td>1.718449e+10</td>\n",
       "    </tr>\n",
       "    <tr>\n",
       "      <th>31</th>\n",
       "      <td>2031-12-31</td>\n",
       "      <td>2.818521</td>\n",
       "      <td>1.865812e+10</td>\n",
       "      <td>-5.692902e+08</td>\n",
       "      <td>-5.692902e+08</td>\n",
       "      <td>1.865811e+10</td>\n",
       "      <td>1.865812e+10</td>\n",
       "      <td>1.303442e+10</td>\n",
       "      <td>2.308126e+10</td>\n",
       "      <td>-5.692902e+08</td>\n",
       "      <td>-5.692902e+08</td>\n",
       "      <td>-5.692902e+08</td>\n",
       "      <td>-5.692902e+08</td>\n",
       "      <td>1.808883e+10</td>\n",
       "    </tr>\n",
       "  </tbody>\n",
       "</table>\n",
       "</div>"
      ],
      "text/plain": [
       "           ds         t         trend  seasonal_lower  seasonal_upper  \\\n",
       "27 2027-12-31  2.454817  1.503989e+10   -5.692902e+08   -5.692902e+08   \n",
       "28 2028-12-31  2.545930  1.594630e+10   -5.692576e+08   -5.692576e+08   \n",
       "29 2029-12-31  2.636794  1.685024e+10   -5.696740e+08   -5.696740e+08   \n",
       "30 2030-12-31  2.727657  1.775418e+10   -5.696848e+08   -5.696848e+08   \n",
       "31 2031-12-31  2.818521  1.865812e+10   -5.692902e+08   -5.692902e+08   \n",
       "\n",
       "     trend_lower   trend_upper    yhat_lower    yhat_upper        yearly  \\\n",
       "27  1.503989e+10  1.503989e+10  9.537592e+09  1.939605e+10 -5.692902e+08   \n",
       "28  1.594630e+10  1.594631e+10  1.022963e+10  2.011454e+10 -5.692576e+08   \n",
       "29  1.685024e+10  1.685024e+10  1.106515e+10  2.188953e+10 -5.696740e+08   \n",
       "30  1.775417e+10  1.775418e+10  1.192833e+10  2.183369e+10 -5.696848e+08   \n",
       "31  1.865811e+10  1.865812e+10  1.303442e+10  2.308126e+10 -5.692902e+08   \n",
       "\n",
       "    yearly_lower  yearly_upper      seasonal          yhat  \n",
       "27 -5.692902e+08 -5.692902e+08 -5.692902e+08  1.447060e+10  \n",
       "28 -5.692576e+08 -5.692576e+08 -5.692576e+08  1.537705e+10  \n",
       "29 -5.696740e+08 -5.696740e+08 -5.696740e+08  1.628057e+10  \n",
       "30 -5.696848e+08 -5.696848e+08 -5.696848e+08  1.718449e+10  \n",
       "31 -5.692902e+08 -5.692902e+08 -5.692902e+08  1.808883e+10  "
      ]
     },
     "execution_count": 63,
     "metadata": {},
     "output_type": "execute_result"
    }
   ],
   "source": [
    "forecast.tail()"
   ]
  },
  {
   "cell_type": "code",
   "execution_count": 67,
   "metadata": {},
   "outputs": [
    {
     "data": {
      "text/plain": [
       "<matplotlib.text.Text at 0x7f75cd44bd90>"
      ]
     },
     "execution_count": 67,
     "metadata": {},
     "output_type": "execute_result"
    },
    {
     "data": {
      "image/png": "[encoded data removed]",
      "text/plain": [
       "<matplotlib.figure.Figure at 0x7f75cd37ce10>"
      ]
     },
     "metadata": {},
     "output_type": "display_data"
    }
   ],
   "source": [
    "m.plot(forecast)\n",
    "plt.ylabel('Deficit/Superavit')\n",
    "plt.xlabel('Ano')"
   ]
  },
  {
   "cell_type": "markdown",
   "metadata": {},
   "source": [
    "### Agora faremos a mesma previsão, mas com todos os dados que temos"
   ]
  },
  {
   "cell_type": "code",
   "execution_count": 124,
   "metadata": {
    "collapsed": true
   },
   "outputs": [],
   "source": [
    "df = pd.read_csv('./processed/prev.csv', encoding='latin1')"
   ]
  },
  {
   "cell_type": "code",
   "execution_count": 125,
   "metadata": {
    "collapsed": true
   },
   "outputs": [],
   "source": [
    "df.drop('Unnamed: 0', axis=1, inplace=True)"
   ]
  },
  {
   "cell_type": "code",
   "execution_count": 126,
   "metadata": {
    "collapsed": true
   },
   "outputs": [],
   "source": [
    "ignorado = pd.read_csv('./processed/arrec_ignorado.csv', encoding='latin1', sep=',')\n",
    "ignorado.drop(['Unnamed: 0','cd_ibge'], axis=1, inplace=True)"
   ]
  },
  {
   "cell_type": "code",
   "execution_count": 127,
   "metadata": {},
   "outputs": [],
   "source": [
    "agrupado = pd.DataFrame(df.groupby(by=['estado','ano'])['vl_emissao','vl_arrecadado'].sum()).reset_index()"
   ]
  },
  {
   "cell_type": "code",
   "execution_count": 128,
   "metadata": {},
   "outputs": [],
   "source": [
    "por_ano = agrupado.groupby(by=['ano'])['vl_emissao','vl_arrecadado'].sum().reset_index()"
   ]
  },
  {
   "cell_type": "code",
   "execution_count": 129,
   "metadata": {},
   "outputs": [],
   "source": [
    "ignorado_por_ano = ignorado.drop('estado', axis=1)"
   ]
  },
  {
   "cell_type": "code",
   "execution_count": 130,
   "metadata": {
    "collapsed": true
   },
   "outputs": [],
   "source": [
    "por_ano_total = pd.merge(por_ano, ignorado_por_ano, how='inner', on='ano')"
   ]
  },
  {
   "cell_type": "code",
   "execution_count": 131,
   "metadata": {
    "collapsed": true
   },
   "outputs": [],
   "source": [
    "por_ano_total['vl_arrec_tot'] = por_ano_total['vl_arrecadado'] + por_ano_total['vl_arrec']"
   ]
  },
  {
   "cell_type": "code",
   "execution_count": 132,
   "metadata": {
    "collapsed": true
   },
   "outputs": [],
   "source": [
    "por_ano_total.drop(['vl_arrecadado', 'vl_arrec'], axis=1, inplace=True)"
   ]
  },
  {
   "cell_type": "code",
   "execution_count": 133,
   "metadata": {},
   "outputs": [],
   "source": [
    "por_ano_total['dif'] = por_ano_total['vl_arrec_tot'] - por_ano_total['vl_emissao']"
   ]
  },
  {
   "cell_type": "code",
   "execution_count": 134,
   "metadata": {},
   "outputs": [],
   "source": [
    "por_ano_total.drop(['vl_arrec_tot', 'vl_emissao'], axis=1, inplace=True)"
   ]
  },
  {
   "cell_type": "code",
   "execution_count": 135,
   "metadata": {},
   "outputs": [],
   "source": [
    "por_ano_total['ds'] = ''"
   ]
  },
  {
   "cell_type": "code",
   "execution_count": 136,
   "metadata": {},
   "outputs": [
    {
     "name": "stderr",
     "output_type": "stream",
     "text": [
      "/home/guilherme/xgboost/lib/python2.7/site-packages/ipykernel_launcher.py:2: SettingWithCopyWarning: \n",
      "A value is trying to be set on a copy of a slice from a DataFrame\n",
      "\n",
      "See the caveats in the documentation: http://pandas.pydata.org/pandas-docs/stable/indexing.html#indexing-view-versus-copy\n",
      "  \n"
     ]
    }
   ],
   "source": [
    "for i in range(len(por_ano_total)):\n",
    "    por_ano_total['ds'][i] = str(por_ano_total['ano'][i])+'-12-31'"
   ]
  },
  {
   "cell_type": "code",
   "execution_count": 137,
   "metadata": {
    "collapsed": true
   },
   "outputs": [],
   "source": [
    "por_ano_total.drop('ano', axis=1, inplace=True)\n",
    "por_ano_total = por_ano_total.rename(columns={'dif':'y'})"
   ]
  },
  {
   "cell_type": "code",
   "execution_count": 138,
   "metadata": {},
   "outputs": [],
   "source": [
    "from fbprophet import Prophet"
   ]
  },
  {
   "cell_type": "code",
   "execution_count": 139,
   "metadata": {
    "collapsed": true
   },
   "outputs": [],
   "source": [
    "n = Prophet()"
   ]
  },
  {
   "cell_type": "code",
   "execution_count": 140,
   "metadata": {},
   "outputs": [
    {
     "name": "stdout",
     "output_type": "stream",
     "text": [
      "Disabling weekly seasonality. Run prophet with weekly_seasonality=True to override this.\n"
     ]
    },
    {
     "data": {
      "text/plain": [
       "<fbprophet.forecaster.Prophet at 0x7f75cd0f1050>"
      ]
     },
     "execution_count": 140,
     "metadata": {},
     "output_type": "execute_result"
    }
   ],
   "source": [
    "n.fit(por_ano_total)"
   ]
  },
  {
   "cell_type": "code",
   "execution_count": 141,
   "metadata": {
    "collapsed": true
   },
   "outputs": [],
   "source": [
    "future = n.make_future_dataframe(periods=20, freq='A')"
   ]
  },
  {
   "cell_type": "code",
   "execution_count": 142,
   "metadata": {
    "collapsed": true
   },
   "outputs": [],
   "source": [
    "forecast = n.predict(future)"
   ]
  },
  {
   "cell_type": "code",
   "execution_count": 144,
   "metadata": {},
   "outputs": [
    {
     "data": {
      "text/plain": [
       "<matplotlib.text.Text at 0x7f75cae63b10>"
      ]
     },
     "execution_count": 144,
     "metadata": {},
     "output_type": "execute_result"
    },
    {
     "data": {
      "image/png": "[encoded data removed]",
      "text/plain": [
       "<matplotlib.figure.Figure at 0x7f75cae3c450>"
      ]
     },
     "metadata": {},
     "output_type": "display_data"
    }
   ],
   "source": [
    "n.plot(forecast)\n",
    "plt.ylabel('Deficit/Superavit')\n",
    "plt.xlabel('Ano')"
   ]
  },
  {
   "cell_type": "code",
   "execution_count": null,
   "metadata": {
    "collapsed": true
   },
   "outputs": [],
   "source": []
  }
 ],
 "metadata": {
  "kernelspec": {
   "display_name": "Python 2",
   "language": "python",
   "name": "python2"
  },
  "language_info": {
   "codemirror_mode": {
    "name": "ipython",
    "version": 2
   },
   "file_extension": ".py",
   "mimetype": "text/x-python",
   "name": "python",
   "nbconvert_exporter": "python",
   "pygments_lexer": "ipython2",
   "version": "2.7.12"
  }
 },
 "nbformat": 4,
 "nbformat_minor": 2
}
