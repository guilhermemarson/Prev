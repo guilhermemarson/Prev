{
 "cells": [
  {
   "cell_type": "code",
   "execution_count": 1,
   "metadata": {
    "collapsed": true
   },
   "outputs": [],
   "source": [
    "%matplotlib inline\n",
    "import pandas as pd\n",
    "from pandas import set_option\n",
    "#Limit dataframe exibition to 8 rows\n",
    "set_option(\"display.max_rows\", 5)\n",
    "import scipy as sp\n",
    "import matplotlib.pyplot as plt\n",
    "import seaborn as sns\n",
    "import numpy as np\n",
    "import gc\n",
    "from fbprophet import Prophet"
   ]
  },
  {
   "cell_type": "code",
   "execution_count": 2,
   "metadata": {
    "collapsed": true
   },
   "outputs": [],
   "source": [
    "df = pd.read_csv('./processed/prev_com_cd_ibge.csv', encoding='latin1')\n",
    "df.drop('Unnamed: 0', axis=1, inplace=True)"
   ]
  },
  {
   "cell_type": "code",
   "execution_count": 3,
   "metadata": {
    "collapsed": true
   },
   "outputs": [],
   "source": [
    "df['ds'] = ''\n",
    "df['ds'] = df['ano'].apply(lambda x: str(x)+'-12-31')"
   ]
  },
  {
   "cell_type": "code",
   "execution_count": 4,
   "metadata": {
    "collapsed": true
   },
   "outputs": [],
   "source": [
    "df['ds']=pd.to_datetime(df['ds'])"
   ]
  },
  {
   "cell_type": "code",
   "execution_count": 5,
   "metadata": {
    "scrolled": true
   },
   "outputs": [
    {
     "data": {
      "text/plain": [
       "0       2000-12-31\n",
       "1       2000-12-31\n",
       "           ...    \n",
       "94688   2016-12-31\n",
       "94689   2016-12-31\n",
       "Name: ds, Length: 94690, dtype: datetime64[ns]"
      ]
     },
     "execution_count": 5,
     "metadata": {},
     "output_type": "execute_result"
    }
   ],
   "source": [
    "df['ds']"
   ]
  },
  {
   "cell_type": "code",
   "execution_count": 6,
   "metadata": {},
   "outputs": [
    {
     "name": "stderr",
     "output_type": "stream",
     "text": [
      "/home/guilherme/xgboost/lib/python2.7/site-packages/ipykernel_launcher.py:1: DeprecationWarning: \n",
      ".ix is deprecated. Please use\n",
      ".loc for label based indexing or\n",
      ".iloc for positional indexing\n",
      "\n",
      "See the documentation here:\n",
      "http://pandas.pydata.org/pandas-docs/stable/indexing.html#deprecate_ix\n",
      "  \"\"\"Entry point for launching an IPython kernel.\n"
     ]
    }
   ],
   "source": [
    "df_emissao = df.ix[:,['ds','cd_ibge', 'estado', 'municipio', 'ano','vl_emissao']]\n",
    "df_emissao = df_emissao.rename(columns={'vl_emissao':'y'})"
   ]
  },
  {
   "cell_type": "code",
   "execution_count": 7,
   "metadata": {
    "collapsed": true
   },
   "outputs": [],
   "source": [
    "ibge = df['cd_ibge'].unique()"
   ]
  },
  {
   "cell_type": "code",
   "execution_count": 8,
   "metadata": {},
   "outputs": [
    {
     "name": "stderr",
     "output_type": "stream",
     "text": [
      "/home/guilherme/xgboost/lib/python2.7/site-packages/ipykernel_launcher.py:4: DeprecationWarning: \n",
      ".ix is deprecated. Please use\n",
      ".loc for label based indexing or\n",
      ".iloc for positional indexing\n",
      "\n",
      "See the documentation here:\n",
      "http://pandas.pydata.org/pandas-docs/stable/indexing.html#deprecate_ix\n",
      "  after removing the cwd from sys.path.\n"
     ]
    },
    {
     "name": "stdout",
     "output_type": "stream",
     "text": [
      "Disabling weekly seasonality. Run prophet with weekly_seasonality=True to override this.\n",
      "Disabling weekly seasonality. Run prophet with weekly_seasonality=True to override this.\n",
      "Disabling weekly seasonality. Run prophet with weekly_seasonality=True to override this.\n",
      "Disabling weekly seasonality. Run prophet with weekly_seasonality=True to override this.\n",
      "Disabling weekly seasonality. Run prophet with weekly_seasonality=True to override this.\n",
      "Disabling weekly seasonality. Run prophet with weekly_seasonality=True to override this.\n",
      "Disabling weekly seasonality. Run prophet with weekly_seasonality=True to override this.\n",
      "Disabling weekly seasonality. Run prophet with weekly_seasonality=True to override this.\n",
      "Disabling weekly seasonality. Run prophet with weekly_seasonality=True to override this.\n",
      "Disabling weekly seasonality. Run prophet with weekly_seasonality=True to override this.\n",
      "Disabling weekly seasonality. Run prophet with weekly_seasonality=True to override this.\n",
      "Disabling weekly seasonality. Run prophet with weekly_seasonality=True to override this.\n",
      "Disabling weekly seasonality. Run prophet with weekly_seasonality=True to override this.\n",
      "Disabling weekly seasonality. Run prophet with weekly_seasonality=True to override this.\n",
      "Disabling weekly seasonality. Run prophet with weekly_seasonality=True to override this.\n",
      "Disabling weekly seasonality. Run prophet with weekly_seasonality=True to override this.\n",
      "Disabling weekly seasonality. Run prophet with weekly_seasonality=True to override this.\n",
      "Disabling weekly seasonality. Run prophet with weekly_seasonality=True to override this.\n",
      "Disabling weekly seasonality. Run prophet with weekly_seasonality=True to override this.\n",
      "Disabling weekly seasonality. Run prophet with weekly_seasonality=True to override this.\n",
      "Disabling weekly seasonality. Run prophet with weekly_seasonality=True to override this.\n",
      "Disabling weekly seasonality. Run prophet with weekly_seasonality=True to override this.\n",
      "Disabling weekly seasonality. Run prophet with weekly_seasonality=True to override this.\n",
      "Disabling weekly seasonality. Run prophet with weekly_seasonality=True to override this.\n",
      "Disabling weekly seasonality. Run prophet with weekly_seasonality=True to override this.\n",
      "Disabling weekly seasonality. Run prophet with weekly_seasonality=True to override this.\n",
      "Disabling weekly seasonality. Run prophet with weekly_seasonality=True to override this.\n",
      "Disabling weekly seasonality. Run prophet with weekly_seasonality=True to override this.\n",
      "Disabling weekly seasonality. Run prophet with weekly_seasonality=True to override this.\n",
      "Disabling weekly seasonality. Run prophet with weekly_seasonality=True to override this.\n",
      "Disabling weekly seasonality. Run prophet with weekly_seasonality=True to override this.\n",
      "Disabling weekly seasonality. Run prophet with weekly_seasonality=True to override this.\n",
      "Disabling weekly seasonality. Run prophet with weekly_seasonality=True to override this.\n",
      "Disabling weekly seasonality. Run prophet with weekly_seasonality=True to override this.\n",
      "Disabling weekly seasonality. Run prophet with weekly_seasonality=True to override this.\n",
      "Disabling weekly seasonality. Run prophet with weekly_seasonality=True to override this.\n",
      "Disabling weekly seasonality. Run prophet with weekly_seasonality=True to override this.\n",
      "Disabling weekly seasonality. Run prophet with weekly_seasonality=True to override this.\n",
      "Disabling weekly seasonality. Run prophet with weekly_seasonality=True to override this.\n",
      "Disabling weekly seasonality. Run prophet with weekly_seasonality=True to override this.\n",
      "Disabling weekly seasonality. Run prophet with weekly_seasonality=True to override this.\n",
      "Disabling weekly seasonality. Run prophet with weekly_seasonality=True to override this.\n",
      "Disabling weekly seasonality. Run prophet with weekly_seasonality=True to override this.\n",
      "Disabling weekly seasonality. Run prophet with weekly_seasonality=True to override this.\n",
      "Disabling weekly seasonality. Run prophet with weekly_seasonality=True to override this.\n",
      "Disabling weekly seasonality. Run prophet with weekly_seasonality=True to override this.\n",
      "Disabling weekly seasonality. Run prophet with weekly_seasonality=True to override this.\n",
      "Disabling weekly seasonality. Run prophet with weekly_seasonality=True to override this.\n",
      "Disabling weekly seasonality. Run prophet with weekly_seasonality=True to override this.\n",
      "Disabling weekly seasonality. Run prophet with weekly_seasonality=True to override this.\n",
      "Disabling weekly seasonality. Run prophet with weekly_seasonality=True to override this.\n",
      "Disabling weekly seasonality. Run prophet with weekly_seasonality=True to override this.\n",
      "Disabling weekly seasonality. Run prophet with weekly_seasonality=True to override this.\n",
      "Disabling weekly seasonality. Run prophet with weekly_seasonality=True to override this.\n",
      "Disabling weekly seasonality. Run prophet with weekly_seasonality=True to override this.\n",
      "Disabling weekly seasonality. Run prophet with weekly_seasonality=True to override this.\n",
      "Disabling weekly seasonality. Run prophet with weekly_seasonality=True to override this.\n",
      "Disabling weekly seasonality. Run prophet with weekly_seasonality=True to override this.\n",
      "Disabling weekly seasonality. Run prophet with weekly_seasonality=True to override this.\n",
      "Disabling weekly seasonality. Run prophet with weekly_seasonality=True to override this.\n",
      "Disabling weekly seasonality. Run prophet with weekly_seasonality=True to override this.\n",
      "Disabling weekly seasonality. Run prophet with weekly_seasonality=True to override this.\n",
      "Disabling weekly seasonality. Run prophet with weekly_seasonality=True to override this.\n",
      "Disabling weekly seasonality. Run prophet with weekly_seasonality=True to override this.\n",
      "Disabling weekly seasonality. Run prophet with weekly_seasonality=True to override this.\n",
      "Disabling weekly seasonality. Run prophet with weekly_seasonality=True to override this.\n",
      "Disabling weekly seasonality. Run prophet with weekly_seasonality=True to override this.\n",
      "Disabling weekly seasonality. Run prophet with weekly_seasonality=True to override this.\n",
      "Disabling weekly seasonality. Run prophet with weekly_seasonality=True to override this.\n",
      "Disabling weekly seasonality. Run prophet with weekly_seasonality=True to override this.\n",
      "Disabling weekly seasonality. Run prophet with weekly_seasonality=True to override this.\n",
      "Disabling weekly seasonality. Run prophet with weekly_seasonality=True to override this.\n",
      "Disabling weekly seasonality. Run prophet with weekly_seasonality=True to override this.\n",
      "Disabling weekly seasonality. Run prophet with weekly_seasonality=True to override this.\n",
      "Disabling weekly seasonality. Run prophet with weekly_seasonality=True to override this.\n",
      "Disabling weekly seasonality. Run prophet with weekly_seasonality=True to override this.\n",
      "Disabling weekly seasonality. Run prophet with weekly_seasonality=True to override this.\n",
      "Disabling weekly seasonality. Run prophet with weekly_seasonality=True to override this.\n",
      "Disabling weekly seasonality. Run prophet with weekly_seasonality=True to override this.\n",
      "Disabling weekly seasonality. Run prophet with weekly_seasonality=True to override this.\n",
      "Disabling weekly seasonality. Run prophet with weekly_seasonality=True to override this.\n",
      "Disabling weekly seasonality. Run prophet with weekly_seasonality=True to override this.\n",
      "Disabling weekly seasonality. Run prophet with weekly_seasonality=True to override this.\n",
      "Disabling weekly seasonality. Run prophet with weekly_seasonality=True to override this.\n",
      "Disabling weekly seasonality. Run prophet with weekly_seasonality=True to override this.\n",
      "Disabling weekly seasonality. Run prophet with weekly_seasonality=True to override this.\n",
      "Disabling weekly seasonality. Run prophet with weekly_seasonality=True to override this.\n",
      "Disabling weekly seasonality. Run prophet with weekly_seasonality=True to override this.\n",
      "Disabling weekly seasonality. Run prophet with weekly_seasonality=True to override this.\n",
      "Disabling weekly seasonality. Run prophet with weekly_seasonality=True to override this.\n",
      "Disabling weekly seasonality. Run prophet with weekly_seasonality=True to override this.\n",
      "Disabling weekly seasonality. Run prophet with weekly_seasonality=True to override this.\n",
      "Disabling weekly seasonality. Run prophet with weekly_seasonality=True to override this.\n"
     ]
    },
    {
     "name": "stdout",
     "output_type": "stream",
     "text": [
      "Disabling weekly seasonality. Run prophet with weekly_seasonality=True to override this.\n",
      "Disabling weekly seasonality. Run prophet with weekly_seasonality=True to override this.\n",
      "Disabling weekly seasonality. Run prophet with weekly_seasonality=True to override this.\n",
      "Disabling weekly seasonality. Run prophet with weekly_seasonality=True to override this.\n",
      "Disabling weekly seasonality. Run prophet with weekly_seasonality=True to override this.\n",
      "Disabling weekly seasonality. Run prophet with weekly_seasonality=True to override this.\n",
      "Disabling weekly seasonality. Run prophet with weekly_seasonality=True to override this.\n",
      "Disabling weekly seasonality. Run prophet with weekly_seasonality=True to override this.\n",
      "Disabling weekly seasonality. Run prophet with weekly_seasonality=True to override this.\n",
      "Disabling weekly seasonality. Run prophet with weekly_seasonality=True to override this.\n",
      "Disabling weekly seasonality. Run prophet with weekly_seasonality=True to override this.\n",
      "Disabling weekly seasonality. Run prophet with weekly_seasonality=True to override this.\n",
      "Disabling weekly seasonality. Run prophet with weekly_seasonality=True to override this.\n",
      "Disabling weekly seasonality. Run prophet with weekly_seasonality=True to override this.\n",
      "Disabling weekly seasonality. Run prophet with weekly_seasonality=True to override this.\n",
      "Disabling weekly seasonality. Run prophet with weekly_seasonality=True to override this.\n",
      "Disabling weekly seasonality. Run prophet with weekly_seasonality=True to override this.\n",
      "Disabling weekly seasonality. Run prophet with weekly_seasonality=True to override this.\n",
      "Disabling weekly seasonality. Run prophet with weekly_seasonality=True to override this.\n",
      "Disabling weekly seasonality. Run prophet with weekly_seasonality=True to override this.\n",
      "Disabling weekly seasonality. Run prophet with weekly_seasonality=True to override this.\n",
      "Disabling weekly seasonality. Run prophet with weekly_seasonality=True to override this.\n",
      "Disabling weekly seasonality. Run prophet with weekly_seasonality=True to override this.\n",
      "Disabling weekly seasonality. Run prophet with weekly_seasonality=True to override this.\n",
      "Disabling weekly seasonality. Run prophet with weekly_seasonality=True to override this.\n",
      "Disabling weekly seasonality. Run prophet with weekly_seasonality=True to override this.\n",
      "Disabling weekly seasonality. Run prophet with weekly_seasonality=True to override this.\n",
      "Disabling weekly seasonality. Run prophet with weekly_seasonality=True to override this.\n",
      "Disabling weekly seasonality. Run prophet with weekly_seasonality=True to override this.\n",
      "Disabling weekly seasonality. Run prophet with weekly_seasonality=True to override this.\n",
      "Disabling weekly seasonality. Run prophet with weekly_seasonality=True to override this.\n",
      "Disabling weekly seasonality. Run prophet with weekly_seasonality=True to override this.\n",
      "Disabling weekly seasonality. Run prophet with weekly_seasonality=True to override this.\n",
      "Disabling weekly seasonality. Run prophet with weekly_seasonality=True to override this.\n",
      "Disabling weekly seasonality. Run prophet with weekly_seasonality=True to override this.\n",
      "Disabling weekly seasonality. Run prophet with weekly_seasonality=True to override this.\n",
      "Disabling weekly seasonality. Run prophet with weekly_seasonality=True to override this.\n",
      "Disabling weekly seasonality. Run prophet with weekly_seasonality=True to override this.\n",
      "Disabling weekly seasonality. Run prophet with weekly_seasonality=True to override this.\n",
      "Disabling weekly seasonality. Run prophet with weekly_seasonality=True to override this.\n",
      "Disabling weekly seasonality. Run prophet with weekly_seasonality=True to override this.\n",
      "Disabling weekly seasonality. Run prophet with weekly_seasonality=True to override this.\n",
      "Disabling weekly seasonality. Run prophet with weekly_seasonality=True to override this.\n",
      "Disabling weekly seasonality. Run prophet with weekly_seasonality=True to override this.\n",
      "Disabling weekly seasonality. Run prophet with weekly_seasonality=True to override this.\n",
      "Disabling weekly seasonality. Run prophet with weekly_seasonality=True to override this.\n",
      "Disabling weekly seasonality. Run prophet with weekly_seasonality=True to override this.\n",
      "Disabling weekly seasonality. Run prophet with weekly_seasonality=True to override this.\n",
      "Disabling weekly seasonality. Run prophet with weekly_seasonality=True to override this.\n",
      "Disabling weekly seasonality. Run prophet with weekly_seasonality=True to override this.\n",
      "Disabling weekly seasonality. Run prophet with weekly_seasonality=True to override this.\n",
      "Disabling weekly seasonality. Run prophet with weekly_seasonality=True to override this.\n",
      "Disabling weekly seasonality. Run prophet with weekly_seasonality=True to override this.\n",
      "Disabling weekly seasonality. Run prophet with weekly_seasonality=True to override this.\n",
      "Disabling weekly seasonality. Run prophet with weekly_seasonality=True to override this.\n",
      "Disabling weekly seasonality. Run prophet with weekly_seasonality=True to override this.\n",
      "Disabling weekly seasonality. Run prophet with weekly_seasonality=True to override this.\n",
      "Disabling weekly seasonality. Run prophet with weekly_seasonality=True to override this.\n",
      "Disabling weekly seasonality. Run prophet with weekly_seasonality=True to override this.\n",
      "Disabling weekly seasonality. Run prophet with weekly_seasonality=True to override this.\n",
      "Disabling weekly seasonality. Run prophet with weekly_seasonality=True to override this.\n",
      "Disabling weekly seasonality. Run prophet with weekly_seasonality=True to override this.\n",
      "Disabling weekly seasonality. Run prophet with weekly_seasonality=True to override this.\n",
      "Disabling weekly seasonality. Run prophet with weekly_seasonality=True to override this.\n",
      "Disabling weekly seasonality. Run prophet with weekly_seasonality=True to override this.\n",
      "Disabling weekly seasonality. Run prophet with weekly_seasonality=True to override this.\n"
     ]
    },
    {
     "ename": "RuntimeError",
     "evalue": "Something went wrong after call_sampler.",
     "output_type": "error",
     "traceback": [
      "\u001b[0;31m---------------------------------------------------------------------------\u001b[0m",
      "\u001b[0;31mRuntimeError\u001b[0m                              Traceback (most recent call last)",
      "\u001b[0;32m<ipython-input-8-e78f3fbb18a5>\u001b[0m in \u001b[0;36m<module>\u001b[0;34m()\u001b[0m\n\u001b[1;32m      2\u001b[0m \u001b[0;32mfor\u001b[0m \u001b[0mcodigo\u001b[0m \u001b[0;32min\u001b[0m \u001b[0mibge\u001b[0m\u001b[0;34m:\u001b[0m\u001b[0;34m\u001b[0m\u001b[0m\n\u001b[1;32m      3\u001b[0m     \u001b[0mm\u001b[0m \u001b[0;34m=\u001b[0m \u001b[0mProphet\u001b[0m\u001b[0;34m(\u001b[0m\u001b[0;34m)\u001b[0m\u001b[0;34m\u001b[0m\u001b[0m\n\u001b[0;32m----> 4\u001b[0;31m     \u001b[0mm\u001b[0m\u001b[0;34m.\u001b[0m\u001b[0mfit\u001b[0m\u001b[0;34m(\u001b[0m\u001b[0mdf_emissao\u001b[0m\u001b[0;34m.\u001b[0m\u001b[0mix\u001b[0m\u001b[0;34m[\u001b[0m\u001b[0mdf_emissao\u001b[0m\u001b[0;34m[\u001b[0m\u001b[0;34m'cd_ibge'\u001b[0m\u001b[0;34m]\u001b[0m\u001b[0;34m==\u001b[0m\u001b[0mcodigo\u001b[0m\u001b[0;34m,\u001b[0m \u001b[0;34m[\u001b[0m\u001b[0;34m'ds'\u001b[0m\u001b[0;34m,\u001b[0m\u001b[0;34m'y'\u001b[0m\u001b[0;34m]\u001b[0m\u001b[0;34m]\u001b[0m\u001b[0;34m)\u001b[0m\u001b[0;34m\u001b[0m\u001b[0m\n\u001b[0m\u001b[1;32m      5\u001b[0m     \u001b[0mfuture\u001b[0m \u001b[0;34m=\u001b[0m \u001b[0mm\u001b[0m\u001b[0;34m.\u001b[0m\u001b[0mmake_future_dataframe\u001b[0m\u001b[0;34m(\u001b[0m\u001b[0mperiods\u001b[0m\u001b[0;34m=\u001b[0m\u001b[0;36m1\u001b[0m\u001b[0;34m,\u001b[0m \u001b[0mfreq\u001b[0m\u001b[0;34m=\u001b[0m\u001b[0;34m'A'\u001b[0m\u001b[0;34m)\u001b[0m\u001b[0;34m\u001b[0m\u001b[0m\n\u001b[1;32m      6\u001b[0m     \u001b[0mforecast\u001b[0m \u001b[0;34m=\u001b[0m \u001b[0mm\u001b[0m\u001b[0;34m.\u001b[0m\u001b[0mpredict\u001b[0m\u001b[0;34m(\u001b[0m\u001b[0mfuture\u001b[0m\u001b[0;34m)\u001b[0m\u001b[0;34m\u001b[0m\u001b[0m\n",
      "\u001b[0;32m/home/guilherme/xgboost/local/lib/python2.7/site-packages/fbprophet/forecaster.pyc\u001b[0m in \u001b[0;36mfit\u001b[0;34m(self, df, **kwargs)\u001b[0m\n\u001b[1;32m    533\u001b[0m \u001b[0;34m\u001b[0m\u001b[0m\n\u001b[1;32m    534\u001b[0m         \u001b[0;32melse\u001b[0m\u001b[0;34m:\u001b[0m\u001b[0;34m\u001b[0m\u001b[0m\n\u001b[0;32m--> 535\u001b[0;31m             \u001b[0mparams\u001b[0m \u001b[0;34m=\u001b[0m \u001b[0mmodel\u001b[0m\u001b[0;34m.\u001b[0m\u001b[0moptimizing\u001b[0m\u001b[0;34m(\u001b[0m\u001b[0mdat\u001b[0m\u001b[0;34m,\u001b[0m \u001b[0minit\u001b[0m\u001b[0;34m=\u001b[0m\u001b[0mstan_init\u001b[0m\u001b[0;34m,\u001b[0m \u001b[0miter\u001b[0m\u001b[0;34m=\u001b[0m\u001b[0;36m1e4\u001b[0m\u001b[0;34m,\u001b[0m \u001b[0;34m**\u001b[0m\u001b[0mkwargs\u001b[0m\u001b[0;34m)\u001b[0m\u001b[0;34m\u001b[0m\u001b[0m\n\u001b[0m\u001b[1;32m    536\u001b[0m             \u001b[0;32mfor\u001b[0m \u001b[0mpar\u001b[0m \u001b[0;32min\u001b[0m \u001b[0mparams\u001b[0m\u001b[0;34m:\u001b[0m\u001b[0;34m\u001b[0m\u001b[0m\n\u001b[1;32m    537\u001b[0m                 \u001b[0mself\u001b[0m\u001b[0;34m.\u001b[0m\u001b[0mparams\u001b[0m\u001b[0;34m[\u001b[0m\u001b[0mpar\u001b[0m\u001b[0;34m]\u001b[0m \u001b[0;34m=\u001b[0m \u001b[0mparams\u001b[0m\u001b[0;34m[\u001b[0m\u001b[0mpar\u001b[0m\u001b[0;34m]\u001b[0m\u001b[0;34m.\u001b[0m\u001b[0mreshape\u001b[0m\u001b[0;34m(\u001b[0m\u001b[0;34m(\u001b[0m\u001b[0;36m1\u001b[0m\u001b[0;34m,\u001b[0m \u001b[0;34m-\u001b[0m\u001b[0;36m1\u001b[0m\u001b[0;34m)\u001b[0m\u001b[0;34m)\u001b[0m\u001b[0;34m\u001b[0m\u001b[0m\n",
      "\u001b[0;32m/home/guilherme/xgboost/local/lib/python2.7/site-packages/pystan/model.pyc\u001b[0m in \u001b[0;36moptimizing\u001b[0;34m(self, data, seed, init, sample_file, algorithm, verbose, as_vector, **kwargs)\u001b[0m\n\u001b[1;32m    508\u001b[0m         \u001b[0mstan_args\u001b[0m \u001b[0;34m=\u001b[0m \u001b[0mpystan\u001b[0m\u001b[0;34m.\u001b[0m\u001b[0mmisc\u001b[0m\u001b[0;34m.\u001b[0m\u001b[0m_get_valid_stan_args\u001b[0m\u001b[0;34m(\u001b[0m\u001b[0mstan_args\u001b[0m\u001b[0;34m)\u001b[0m\u001b[0;34m\u001b[0m\u001b[0m\n\u001b[1;32m    509\u001b[0m \u001b[0;34m\u001b[0m\u001b[0m\n\u001b[0;32m--> 510\u001b[0;31m         \u001b[0mret\u001b[0m\u001b[0;34m,\u001b[0m \u001b[0msample\u001b[0m \u001b[0;34m=\u001b[0m \u001b[0mfit\u001b[0m\u001b[0;34m.\u001b[0m\u001b[0m_call_sampler\u001b[0m\u001b[0;34m(\u001b[0m\u001b[0mstan_args\u001b[0m\u001b[0;34m)\u001b[0m\u001b[0;34m\u001b[0m\u001b[0m\n\u001b[0m\u001b[1;32m    511\u001b[0m         \u001b[0mpars\u001b[0m \u001b[0;34m=\u001b[0m \u001b[0mpystan\u001b[0m\u001b[0;34m.\u001b[0m\u001b[0mmisc\u001b[0m\u001b[0;34m.\u001b[0m\u001b[0m_par_vector2dict\u001b[0m\u001b[0;34m(\u001b[0m\u001b[0msample\u001b[0m\u001b[0;34m[\u001b[0m\u001b[0;34m'par'\u001b[0m\u001b[0;34m]\u001b[0m\u001b[0;34m,\u001b[0m \u001b[0mm_pars\u001b[0m\u001b[0;34m,\u001b[0m \u001b[0mp_dims\u001b[0m\u001b[0;34m)\u001b[0m\u001b[0;34m\u001b[0m\u001b[0m\n\u001b[1;32m    512\u001b[0m         \u001b[0;32mif\u001b[0m \u001b[0;32mnot\u001b[0m \u001b[0mas_vector\u001b[0m\u001b[0;34m:\u001b[0m\u001b[0;34m\u001b[0m\u001b[0m\n",
      "\u001b[0;32mstanfit4anon_model_7a788197ac3493030b72020b9ffdbe7d_8841046008311234146.pyx\u001b[0m in \u001b[0;36mstanfit4anon_model_7a788197ac3493030b72020b9ffdbe7d_8841046008311234146.StanFit4Model._call_sampler (/tmp/tmpO_wXRB/stanfit4anon_model_7a788197ac3493030b72020b9ffdbe7d_8841046008311234146.cpp:16904)\u001b[0;34m()\u001b[0m\n",
      "\u001b[0;32mstanfit4anon_model_7a788197ac3493030b72020b9ffdbe7d_8841046008311234146.pyx\u001b[0m in \u001b[0;36mstanfit4anon_model_7a788197ac3493030b72020b9ffdbe7d_8841046008311234146._call_sampler (/tmp/tmpO_wXRB/stanfit4anon_model_7a788197ac3493030b72020b9ffdbe7d_8841046008311234146.cpp:8973)\u001b[0;34m()\u001b[0m\n",
      "\u001b[0;31mRuntimeError\u001b[0m: Something went wrong after call_sampler."
     ]
    }
   ],
   "source": [
    "predictions_emissoes = {}\n",
    "for codigo in ibge:\n",
    "    m = Prophet()\n",
    "    m.fit(df_emissao.ix[df_emissao['cd_ibge']==codigo, ['ds','y']])\n",
    "    future = m.make_future_dataframe(periods=1, freq='A')\n",
    "    forecast = m.predict(future)\n",
    "    predictions_emissoes[codigo] = forecast['yhat'].tail(1)"
   ]
  },
  {
   "cell_type": "code",
   "execution_count": 9,
   "metadata": {},
   "outputs": [
    {
     "data": {
      "text/plain": [
       "1500602"
      ]
     },
     "execution_count": 9,
     "metadata": {},
     "output_type": "execute_result"
    }
   ],
   "source": [
    "codigo"
   ]
  },
  {
   "cell_type": "code",
   "execution_count": 7,
   "metadata": {},
   "outputs": [
    {
     "data": {
      "text/html": [
       "<div>\n",
       "<table border=\"1\" class=\"dataframe\">\n",
       "  <thead>\n",
       "    <tr style=\"text-align: right;\">\n",
       "      <th></th>\n",
       "      <th>ds</th>\n",
       "      <th>cd_ibge</th>\n",
       "      <th>estado</th>\n",
       "      <th>municipio</th>\n",
       "      <th>ano</th>\n",
       "      <th>y</th>\n",
       "    </tr>\n",
       "  </thead>\n",
       "  <tbody>\n",
       "    <tr>\n",
       "      <th>0</th>\n",
       "      <td>2000-12-31</td>\n",
       "      <td>1100015</td>\n",
       "      <td>Rondônia</td>\n",
       "      <td>Alta Floresta D'Oeste</td>\n",
       "      <td>2000</td>\n",
       "      <td>5171322</td>\n",
       "    </tr>\n",
       "    <tr>\n",
       "      <th>1</th>\n",
       "      <td>2000-12-31</td>\n",
       "      <td>1100023</td>\n",
       "      <td>Rondônia</td>\n",
       "      <td>Ariquemes</td>\n",
       "      <td>2000</td>\n",
       "      <td>14769145</td>\n",
       "    </tr>\n",
       "    <tr>\n",
       "      <th>...</th>\n",
       "      <td>...</td>\n",
       "      <td>...</td>\n",
       "      <td>...</td>\n",
       "      <td>...</td>\n",
       "      <td>...</td>\n",
       "      <td>...</td>\n",
       "    </tr>\n",
       "    <tr>\n",
       "      <th>94688</th>\n",
       "      <td>2016-12-31</td>\n",
       "      <td>5222302</td>\n",
       "      <td>Goiás</td>\n",
       "      <td>Vila Propício</td>\n",
       "      <td>2016</td>\n",
       "      <td>3300148</td>\n",
       "    </tr>\n",
       "    <tr>\n",
       "      <th>94689</th>\n",
       "      <td>2016-12-31</td>\n",
       "      <td>5300108</td>\n",
       "      <td>Distrito Federal</td>\n",
       "      <td>Brasília</td>\n",
       "      <td>2016</td>\n",
       "      <td>5136271533</td>\n",
       "    </tr>\n",
       "  </tbody>\n",
       "</table>\n",
       "<p>94690 rows × 6 columns</p>\n",
       "</div>"
      ],
      "text/plain": [
       "               ds  cd_ibge            estado              municipio   ano  \\\n",
       "0      2000-12-31  1100015          Rondônia  Alta Floresta D'Oeste  2000   \n",
       "1      2000-12-31  1100023          Rondônia              Ariquemes  2000   \n",
       "...           ...      ...               ...                    ...   ...   \n",
       "94688  2016-12-31  5222302             Goiás          Vila Propício  2016   \n",
       "94689  2016-12-31  5300108  Distrito Federal               Brasília  2016   \n",
       "\n",
       "                y  \n",
       "0         5171322  \n",
       "1        14769145  \n",
       "...           ...  \n",
       "94688     3300148  \n",
       "94689  5136271533  \n",
       "\n",
       "[94690 rows x 6 columns]"
      ]
     },
     "execution_count": 7,
     "metadata": {},
     "output_type": "execute_result"
    }
   ],
   "source": [
    "df_emissao"
   ]
  },
  {
   "cell_type": "code",
   "execution_count": 42,
   "metadata": {
    "scrolled": true
   },
   "outputs": [
    {
     "data": {
      "text/plain": [
       "1500602"
      ]
     },
     "execution_count": 42,
     "metadata": {},
     "output_type": "execute_result"
    }
   ],
   "source": [
    "codigo"
   ]
  },
  {
   "cell_type": "code",
   "execution_count": 11,
   "metadata": {},
   "outputs": [
    {
     "ename": "TypeError",
     "evalue": "data type \"datetime\" not understood",
     "output_type": "error",
     "traceback": [
      "\u001b[0;31m---------------------------------------------------------------------------\u001b[0m",
      "\u001b[0;31mTypeError\u001b[0m                                 Traceback (most recent call last)",
      "\u001b[0;32m<ipython-input-11-5625fc0a017b>\u001b[0m in \u001b[0;36m<module>\u001b[0;34m()\u001b[0m\n\u001b[1;32m      1\u001b[0m \u001b[0mh\u001b[0m \u001b[0;34m=\u001b[0m \u001b[0mProphet\u001b[0m\u001b[0;34m(\u001b[0m\u001b[0;34m)\u001b[0m\u001b[0;34m\u001b[0m\u001b[0m\n\u001b[0;32m----> 2\u001b[0;31m \u001b[0mh\u001b[0m\u001b[0;34m.\u001b[0m\u001b[0mfit\u001b[0m\u001b[0;34m(\u001b[0m\u001b[0mdf_emissao\u001b[0m\u001b[0;34m.\u001b[0m\u001b[0mix\u001b[0m\u001b[0;34m[\u001b[0m\u001b[0mdf_emissao\u001b[0m\u001b[0;34m[\u001b[0m\u001b[0;34m'cd_ibge'\u001b[0m\u001b[0;34m]\u001b[0m\u001b[0;34m==\u001b[0m\u001b[0;36m1500602\u001b[0m\u001b[0;34m,\u001b[0m \u001b[0;34m[\u001b[0m\u001b[0;34m'ds'\u001b[0m\u001b[0;34m,\u001b[0m\u001b[0;34m'y'\u001b[0m\u001b[0;34m]\u001b[0m\u001b[0;34m]\u001b[0m\u001b[0;34m)\u001b[0m\u001b[0;34m\u001b[0m\u001b[0m\n\u001b[0m",
      "\u001b[0;32m/home/guilherme/xgboost/local/lib/python2.7/site-packages/fbprophet/forecaster.pyc\u001b[0m in \u001b[0;36mfit\u001b[0;34m(self, df, **kwargs)\u001b[0m\n\u001b[1;32m    484\u001b[0m         \u001b[0mself\u001b[0m\u001b[0;34m.\u001b[0m\u001b[0mhistory_dates\u001b[0m \u001b[0;34m=\u001b[0m \u001b[0mpd\u001b[0m\u001b[0;34m.\u001b[0m\u001b[0mto_datetime\u001b[0m\u001b[0;34m(\u001b[0m\u001b[0mdf\u001b[0m\u001b[0;34m[\u001b[0m\u001b[0;34m'ds'\u001b[0m\u001b[0;34m]\u001b[0m\u001b[0;34m)\u001b[0m\u001b[0;34m.\u001b[0m\u001b[0msort_values\u001b[0m\u001b[0;34m(\u001b[0m\u001b[0;34m)\u001b[0m\u001b[0;34m\u001b[0m\u001b[0m\n\u001b[1;32m    485\u001b[0m \u001b[0;34m\u001b[0m\u001b[0m\n\u001b[0;32m--> 486\u001b[0;31m         \u001b[0mhistory\u001b[0m \u001b[0;34m=\u001b[0m \u001b[0mself\u001b[0m\u001b[0;34m.\u001b[0m\u001b[0msetup_dataframe\u001b[0m\u001b[0;34m(\u001b[0m\u001b[0mhistory\u001b[0m\u001b[0;34m,\u001b[0m \u001b[0minitialize_scales\u001b[0m\u001b[0;34m=\u001b[0m\u001b[0mTrue\u001b[0m\u001b[0;34m)\u001b[0m\u001b[0;34m\u001b[0m\u001b[0m\n\u001b[0m\u001b[1;32m    487\u001b[0m         \u001b[0mself\u001b[0m\u001b[0;34m.\u001b[0m\u001b[0mhistory\u001b[0m \u001b[0;34m=\u001b[0m \u001b[0mhistory\u001b[0m\u001b[0;34m\u001b[0m\u001b[0m\n\u001b[1;32m    488\u001b[0m         \u001b[0mself\u001b[0m\u001b[0;34m.\u001b[0m\u001b[0mset_auto_seasonalities\u001b[0m\u001b[0;34m(\u001b[0m\u001b[0;34m)\u001b[0m\u001b[0;34m\u001b[0m\u001b[0m\n",
      "\u001b[0;32m/home/guilherme/xgboost/local/lib/python2.7/site-packages/fbprophet/forecaster.pyc\u001b[0m in \u001b[0;36msetup_dataframe\u001b[0;34m(self, df, initialize_scales)\u001b[0m\n\u001b[1;32m    177\u001b[0m             \u001b[0mself\u001b[0m\u001b[0;34m.\u001b[0m\u001b[0mt_scale\u001b[0m \u001b[0;34m=\u001b[0m \u001b[0mdf\u001b[0m\u001b[0;34m[\u001b[0m\u001b[0;34m'ds'\u001b[0m\u001b[0;34m]\u001b[0m\u001b[0;34m.\u001b[0m\u001b[0mmax\u001b[0m\u001b[0;34m(\u001b[0m\u001b[0;34m)\u001b[0m \u001b[0;34m-\u001b[0m \u001b[0mself\u001b[0m\u001b[0;34m.\u001b[0m\u001b[0mstart\u001b[0m\u001b[0;34m\u001b[0m\u001b[0m\n\u001b[1;32m    178\u001b[0m \u001b[0;34m\u001b[0m\u001b[0m\n\u001b[0;32m--> 179\u001b[0;31m         \u001b[0mdf\u001b[0m\u001b[0;34m[\u001b[0m\u001b[0;34m't'\u001b[0m\u001b[0;34m]\u001b[0m \u001b[0;34m=\u001b[0m \u001b[0;34m(\u001b[0m\u001b[0mdf\u001b[0m\u001b[0;34m[\u001b[0m\u001b[0;34m'ds'\u001b[0m\u001b[0;34m]\u001b[0m \u001b[0;34m-\u001b[0m \u001b[0mself\u001b[0m\u001b[0;34m.\u001b[0m\u001b[0mstart\u001b[0m\u001b[0;34m)\u001b[0m \u001b[0;34m/\u001b[0m \u001b[0mself\u001b[0m\u001b[0;34m.\u001b[0m\u001b[0mt_scale\u001b[0m\u001b[0;34m\u001b[0m\u001b[0m\n\u001b[0m\u001b[1;32m    180\u001b[0m         \u001b[0;32mif\u001b[0m \u001b[0;34m'y'\u001b[0m \u001b[0;32min\u001b[0m \u001b[0mdf\u001b[0m\u001b[0;34m:\u001b[0m\u001b[0;34m\u001b[0m\u001b[0m\n\u001b[1;32m    181\u001b[0m             \u001b[0mdf\u001b[0m\u001b[0;34m[\u001b[0m\u001b[0;34m'y_scaled'\u001b[0m\u001b[0;34m]\u001b[0m \u001b[0;34m=\u001b[0m \u001b[0mdf\u001b[0m\u001b[0;34m[\u001b[0m\u001b[0;34m'y'\u001b[0m\u001b[0;34m]\u001b[0m \u001b[0;34m/\u001b[0m \u001b[0mself\u001b[0m\u001b[0;34m.\u001b[0m\u001b[0my_scale\u001b[0m\u001b[0;34m\u001b[0m\u001b[0m\n",
      "\u001b[0;32m/home/guilherme/xgboost/local/lib/python2.7/site-packages/pandas/core/ops.pyc\u001b[0m in \u001b[0;36mwrapper\u001b[0;34m(left, right, name, na_op)\u001b[0m\n\u001b[1;32m    694\u001b[0m         \u001b[0mleft\u001b[0m\u001b[0;34m,\u001b[0m \u001b[0mright\u001b[0m \u001b[0;34m=\u001b[0m \u001b[0m_align_method_SERIES\u001b[0m\u001b[0;34m(\u001b[0m\u001b[0mleft\u001b[0m\u001b[0;34m,\u001b[0m \u001b[0mright\u001b[0m\u001b[0;34m)\u001b[0m\u001b[0;34m\u001b[0m\u001b[0m\n\u001b[1;32m    695\u001b[0m \u001b[0;34m\u001b[0m\u001b[0m\n\u001b[0;32m--> 696\u001b[0;31m         \u001b[0mconverted\u001b[0m \u001b[0;34m=\u001b[0m \u001b[0m_Op\u001b[0m\u001b[0;34m.\u001b[0m\u001b[0mget_op\u001b[0m\u001b[0;34m(\u001b[0m\u001b[0mleft\u001b[0m\u001b[0;34m,\u001b[0m \u001b[0mright\u001b[0m\u001b[0;34m,\u001b[0m \u001b[0mname\u001b[0m\u001b[0;34m,\u001b[0m \u001b[0mna_op\u001b[0m\u001b[0;34m)\u001b[0m\u001b[0;34m\u001b[0m\u001b[0m\n\u001b[0m\u001b[1;32m    697\u001b[0m \u001b[0;34m\u001b[0m\u001b[0m\n\u001b[1;32m    698\u001b[0m         \u001b[0mleft\u001b[0m\u001b[0;34m,\u001b[0m \u001b[0mright\u001b[0m \u001b[0;34m=\u001b[0m \u001b[0mconverted\u001b[0m\u001b[0;34m.\u001b[0m\u001b[0mleft\u001b[0m\u001b[0;34m,\u001b[0m \u001b[0mconverted\u001b[0m\u001b[0;34m.\u001b[0m\u001b[0mright\u001b[0m\u001b[0;34m\u001b[0m\u001b[0m\n",
      "\u001b[0;32m/home/guilherme/xgboost/local/lib/python2.7/site-packages/pandas/core/ops.pyc\u001b[0m in \u001b[0;36mget_op\u001b[0;34m(cls, left, right, name, na_op)\u001b[0m\n\u001b[1;32m    328\u001b[0m             \u001b[0;32mreturn\u001b[0m \u001b[0m_Op\u001b[0m\u001b[0;34m(\u001b[0m\u001b[0mleft\u001b[0m\u001b[0;34m,\u001b[0m \u001b[0mright\u001b[0m\u001b[0;34m,\u001b[0m \u001b[0mname\u001b[0m\u001b[0;34m,\u001b[0m \u001b[0mna_op\u001b[0m\u001b[0;34m)\u001b[0m\u001b[0;34m\u001b[0m\u001b[0m\n\u001b[1;32m    329\u001b[0m         \u001b[0;32melse\u001b[0m\u001b[0;34m:\u001b[0m\u001b[0;34m\u001b[0m\u001b[0m\n\u001b[0;32m--> 330\u001b[0;31m             \u001b[0;32mreturn\u001b[0m \u001b[0m_TimeOp\u001b[0m\u001b[0;34m(\u001b[0m\u001b[0mleft\u001b[0m\u001b[0;34m,\u001b[0m \u001b[0mright\u001b[0m\u001b[0;34m,\u001b[0m \u001b[0mname\u001b[0m\u001b[0;34m,\u001b[0m \u001b[0mna_op\u001b[0m\u001b[0;34m)\u001b[0m\u001b[0;34m\u001b[0m\u001b[0m\n\u001b[0m\u001b[1;32m    331\u001b[0m \u001b[0;34m\u001b[0m\u001b[0m\n\u001b[1;32m    332\u001b[0m \u001b[0;34m\u001b[0m\u001b[0m\n",
      "\u001b[0;32m/home/guilherme/xgboost/local/lib/python2.7/site-packages/pandas/core/ops.pyc\u001b[0m in \u001b[0;36m__init__\u001b[0;34m(self, left, right, name, na_op)\u001b[0m\n\u001b[1;32m    341\u001b[0m         \u001b[0msuper\u001b[0m\u001b[0;34m(\u001b[0m\u001b[0m_TimeOp\u001b[0m\u001b[0;34m,\u001b[0m \u001b[0mself\u001b[0m\u001b[0;34m)\u001b[0m\u001b[0;34m.\u001b[0m\u001b[0m__init__\u001b[0m\u001b[0;34m(\u001b[0m\u001b[0mleft\u001b[0m\u001b[0;34m,\u001b[0m \u001b[0mright\u001b[0m\u001b[0;34m,\u001b[0m \u001b[0mname\u001b[0m\u001b[0;34m,\u001b[0m \u001b[0mna_op\u001b[0m\u001b[0;34m)\u001b[0m\u001b[0;34m\u001b[0m\u001b[0m\n\u001b[1;32m    342\u001b[0m \u001b[0;34m\u001b[0m\u001b[0m\n\u001b[0;32m--> 343\u001b[0;31m         \u001b[0mlvalues\u001b[0m \u001b[0;34m=\u001b[0m \u001b[0mself\u001b[0m\u001b[0;34m.\u001b[0m\u001b[0m_convert_to_array\u001b[0m\u001b[0;34m(\u001b[0m\u001b[0mleft\u001b[0m\u001b[0;34m,\u001b[0m \u001b[0mname\u001b[0m\u001b[0;34m=\u001b[0m\u001b[0mname\u001b[0m\u001b[0;34m)\u001b[0m\u001b[0;34m\u001b[0m\u001b[0m\n\u001b[0m\u001b[1;32m    344\u001b[0m         \u001b[0mrvalues\u001b[0m \u001b[0;34m=\u001b[0m \u001b[0mself\u001b[0m\u001b[0;34m.\u001b[0m\u001b[0m_convert_to_array\u001b[0m\u001b[0;34m(\u001b[0m\u001b[0mright\u001b[0m\u001b[0;34m,\u001b[0m \u001b[0mname\u001b[0m\u001b[0;34m=\u001b[0m\u001b[0mname\u001b[0m\u001b[0;34m,\u001b[0m \u001b[0mother\u001b[0m\u001b[0;34m=\u001b[0m\u001b[0mlvalues\u001b[0m\u001b[0;34m)\u001b[0m\u001b[0;34m\u001b[0m\u001b[0m\n\u001b[1;32m    345\u001b[0m \u001b[0;34m\u001b[0m\u001b[0m\n",
      "\u001b[0;32m/home/guilherme/xgboost/local/lib/python2.7/site-packages/pandas/core/ops.pyc\u001b[0m in \u001b[0;36m_convert_to_array\u001b[0;34m(self, values, name, other)\u001b[0m\n\u001b[1;32m    452\u001b[0m             \u001b[0msupplied_dtype\u001b[0m \u001b[0;34m=\u001b[0m \u001b[0mvalues\u001b[0m\u001b[0;34m.\u001b[0m\u001b[0mdtype\u001b[0m\u001b[0;34m\u001b[0m\u001b[0m\n\u001b[1;32m    453\u001b[0m         \u001b[0minferred_type\u001b[0m \u001b[0;34m=\u001b[0m \u001b[0msupplied_dtype\u001b[0m \u001b[0;32mor\u001b[0m \u001b[0mlib\u001b[0m\u001b[0;34m.\u001b[0m\u001b[0minfer_dtype\u001b[0m\u001b[0;34m(\u001b[0m\u001b[0mvalues\u001b[0m\u001b[0;34m)\u001b[0m\u001b[0;34m\u001b[0m\u001b[0m\n\u001b[0;32m--> 454\u001b[0;31m         if (inferred_type in ('datetime64', 'datetime', 'date', 'time') or\n\u001b[0m\u001b[1;32m    455\u001b[0m                 is_datetimetz(inferred_type)):\n\u001b[1;32m    456\u001b[0m             \u001b[0;31m# if we have a other of timedelta, but use pd.NaT here we\u001b[0m\u001b[0;34m\u001b[0m\u001b[0;34m\u001b[0m\u001b[0m\n",
      "\u001b[0;31mTypeError\u001b[0m: data type \"datetime\" not understood"
     ]
    }
   ],
   "source": [
    "h = Prophet()\n",
    "h.fit(df_emissao.ix[df_emissao['cd_ibge']==1500602, ['ds','y']])"
   ]
  },
  {
   "cell_type": "code",
   "execution_count": 8,
   "metadata": {
    "collapsed": true
   },
   "outputs": [],
   "source": [
    "set_option(\"display.max_rows\", 18)"
   ]
  },
  {
   "cell_type": "code",
   "execution_count": 10,
   "metadata": {
    "scrolled": false
   },
   "outputs": [
    {
     "data": {
      "text/html": [
       "<div>\n",
       "<table border=\"1\" class=\"dataframe\">\n",
       "  <thead>\n",
       "    <tr style=\"text-align: right;\">\n",
       "      <th></th>\n",
       "      <th>ds</th>\n",
       "      <th>y</th>\n",
       "    </tr>\n",
       "  </thead>\n",
       "  <tbody>\n",
       "    <tr>\n",
       "      <th>158</th>\n",
       "      <td>2000-12-31</td>\n",
       "      <td>15348189</td>\n",
       "    </tr>\n",
       "    <tr>\n",
       "      <th>5728</th>\n",
       "      <td>2001-12-31</td>\n",
       "      <td>19139882</td>\n",
       "    </tr>\n",
       "    <tr>\n",
       "      <th>11298</th>\n",
       "      <td>2002-12-31</td>\n",
       "      <td>22787045</td>\n",
       "    </tr>\n",
       "    <tr>\n",
       "      <th>16868</th>\n",
       "      <td>2003-12-31</td>\n",
       "      <td>30145704</td>\n",
       "    </tr>\n",
       "    <tr>\n",
       "      <th>22438</th>\n",
       "      <td>2004-12-31</td>\n",
       "      <td>37854079</td>\n",
       "    </tr>\n",
       "    <tr>\n",
       "      <th>28008</th>\n",
       "      <td>2005-12-31</td>\n",
       "      <td>45155862</td>\n",
       "    </tr>\n",
       "    <tr>\n",
       "      <th>33578</th>\n",
       "      <td>2006-12-31</td>\n",
       "      <td>54508088</td>\n",
       "    </tr>\n",
       "    <tr>\n",
       "      <th>39148</th>\n",
       "      <td>2007-12-31</td>\n",
       "      <td>61612033</td>\n",
       "    </tr>\n",
       "    <tr>\n",
       "      <th>44718</th>\n",
       "      <td>2008-12-31</td>\n",
       "      <td>67319248</td>\n",
       "    </tr>\n",
       "    <tr>\n",
       "      <th>50288</th>\n",
       "      <td>2009-12-31</td>\n",
       "      <td>77189490</td>\n",
       "    </tr>\n",
       "    <tr>\n",
       "      <th>55858</th>\n",
       "      <td>2010-12-31</td>\n",
       "      <td>86514554</td>\n",
       "    </tr>\n",
       "    <tr>\n",
       "      <th>61428</th>\n",
       "      <td>2011-12-31</td>\n",
       "      <td>94300155</td>\n",
       "    </tr>\n",
       "    <tr>\n",
       "      <th>66998</th>\n",
       "      <td>2012-12-31</td>\n",
       "      <td>106178594</td>\n",
       "    </tr>\n",
       "    <tr>\n",
       "      <th>72568</th>\n",
       "      <td>2013-12-31</td>\n",
       "      <td>118923137</td>\n",
       "    </tr>\n",
       "    <tr>\n",
       "      <th>78138</th>\n",
       "      <td>2014-12-31</td>\n",
       "      <td>130634842</td>\n",
       "    </tr>\n",
       "    <tr>\n",
       "      <th>83708</th>\n",
       "      <td>2015-12-31</td>\n",
       "      <td>148846250</td>\n",
       "    </tr>\n",
       "    <tr>\n",
       "      <th>89278</th>\n",
       "      <td>2016-12-31</td>\n",
       "      <td>170391261</td>\n",
       "    </tr>\n",
       "  </tbody>\n",
       "</table>\n",
       "</div>"
      ],
      "text/plain": [
       "               ds          y\n",
       "158    2000-12-31   15348189\n",
       "5728   2001-12-31   19139882\n",
       "11298  2002-12-31   22787045\n",
       "16868  2003-12-31   30145704\n",
       "22438  2004-12-31   37854079\n",
       "28008  2005-12-31   45155862\n",
       "33578  2006-12-31   54508088\n",
       "39148  2007-12-31   61612033\n",
       "44718  2008-12-31   67319248\n",
       "50288  2009-12-31   77189490\n",
       "55858  2010-12-31   86514554\n",
       "61428  2011-12-31   94300155\n",
       "66998  2012-12-31  106178594\n",
       "72568  2013-12-31  118923137\n",
       "78138  2014-12-31  130634842\n",
       "83708  2015-12-31  148846250\n",
       "89278  2016-12-31  170391261"
      ]
     },
     "execution_count": 10,
     "metadata": {},
     "output_type": "execute_result"
    }
   ],
   "source": [
    "df_emissao.ix[df_emissao['cd_ibge']==1500602, ['ds','y']]"
   ]
  },
  {
   "cell_type": "code",
   "execution_count": 39,
   "metadata": {},
   "outputs": [
    {
     "data": {
      "text/plain": [
       "1500602"
      ]
     },
     "execution_count": 39,
     "metadata": {},
     "output_type": "execute_result"
    }
   ],
   "source": [
    "codigo"
   ]
  },
  {
   "cell_type": "code",
   "execution_count": 29,
   "metadata": {
    "collapsed": true
   },
   "outputs": [],
   "source": [
    "df_arrecadado = df.ix[:,['ds','cd_ibge', 'estado', 'municipio', 'ano','vl_arrecadado']]\n",
    "df_arrecadado = df_emissao.rename(columns={'vl_arrecadadoo':'y'})"
   ]
  },
  {
   "cell_type": "code",
   "execution_count": 30,
   "metadata": {},
   "outputs": [
    {
     "ename": "TypeError",
     "evalue": "data type \"datetime\" not understood",
     "output_type": "error",
     "traceback": [
      "\u001b[0;31m---------------------------------------------------------------------------\u001b[0m",
      "\u001b[0;31mTypeError\u001b[0m                                 Traceback (most recent call last)",
      "\u001b[0;32m<ipython-input-30-63c3b15be581>\u001b[0m in \u001b[0;36m<module>\u001b[0;34m()\u001b[0m\n\u001b[1;32m      2\u001b[0m \u001b[0;32mfor\u001b[0m \u001b[0mcodigo\u001b[0m \u001b[0;32min\u001b[0m \u001b[0mibge\u001b[0m\u001b[0;34m:\u001b[0m\u001b[0;34m\u001b[0m\u001b[0m\n\u001b[1;32m      3\u001b[0m     \u001b[0mm\u001b[0m \u001b[0;34m=\u001b[0m \u001b[0mProphet\u001b[0m\u001b[0;34m(\u001b[0m\u001b[0;34m)\u001b[0m\u001b[0;34m\u001b[0m\u001b[0m\n\u001b[0;32m----> 4\u001b[0;31m     \u001b[0mm\u001b[0m\u001b[0;34m.\u001b[0m\u001b[0mfit\u001b[0m\u001b[0;34m(\u001b[0m\u001b[0mdf_arrecadado\u001b[0m\u001b[0;34m.\u001b[0m\u001b[0mix\u001b[0m\u001b[0;34m[\u001b[0m\u001b[0mdf_arrecadado\u001b[0m\u001b[0;34m[\u001b[0m\u001b[0;34m'cd_ibge'\u001b[0m\u001b[0;34m]\u001b[0m\u001b[0;34m==\u001b[0m\u001b[0mcodigo\u001b[0m\u001b[0;34m,\u001b[0m \u001b[0;34m[\u001b[0m\u001b[0;34m'ds'\u001b[0m\u001b[0;34m,\u001b[0m\u001b[0;34m'y'\u001b[0m\u001b[0;34m]\u001b[0m\u001b[0;34m]\u001b[0m\u001b[0;34m)\u001b[0m\u001b[0;34m\u001b[0m\u001b[0m\n\u001b[0m\u001b[1;32m      5\u001b[0m     \u001b[0mfuture\u001b[0m \u001b[0;34m=\u001b[0m \u001b[0mm\u001b[0m\u001b[0;34m.\u001b[0m\u001b[0mmake_future_dataframe\u001b[0m\u001b[0;34m(\u001b[0m\u001b[0mperiods\u001b[0m\u001b[0;34m=\u001b[0m\u001b[0;36m1\u001b[0m\u001b[0;34m,\u001b[0m \u001b[0mfreq\u001b[0m\u001b[0;34m=\u001b[0m\u001b[0;34m'A'\u001b[0m\u001b[0;34m)\u001b[0m\u001b[0;34m\u001b[0m\u001b[0m\n\u001b[1;32m      6\u001b[0m     \u001b[0mforecast\u001b[0m \u001b[0;34m=\u001b[0m \u001b[0mm\u001b[0m\u001b[0;34m.\u001b[0m\u001b[0mpredict\u001b[0m\u001b[0;34m(\u001b[0m\u001b[0mfuture\u001b[0m\u001b[0;34m)\u001b[0m\u001b[0;34m\u001b[0m\u001b[0m\n",
      "\u001b[0;32m/home/guilherme/xgboost/local/lib/python2.7/site-packages/fbprophet/forecaster.pyc\u001b[0m in \u001b[0;36mfit\u001b[0;34m(self, df, **kwargs)\u001b[0m\n\u001b[1;32m    484\u001b[0m         \u001b[0mself\u001b[0m\u001b[0;34m.\u001b[0m\u001b[0mhistory_dates\u001b[0m \u001b[0;34m=\u001b[0m \u001b[0mpd\u001b[0m\u001b[0;34m.\u001b[0m\u001b[0mto_datetime\u001b[0m\u001b[0;34m(\u001b[0m\u001b[0mdf\u001b[0m\u001b[0;34m[\u001b[0m\u001b[0;34m'ds'\u001b[0m\u001b[0;34m]\u001b[0m\u001b[0;34m)\u001b[0m\u001b[0;34m.\u001b[0m\u001b[0msort_values\u001b[0m\u001b[0;34m(\u001b[0m\u001b[0;34m)\u001b[0m\u001b[0;34m\u001b[0m\u001b[0m\n\u001b[1;32m    485\u001b[0m \u001b[0;34m\u001b[0m\u001b[0m\n\u001b[0;32m--> 486\u001b[0;31m         \u001b[0mhistory\u001b[0m \u001b[0;34m=\u001b[0m \u001b[0mself\u001b[0m\u001b[0;34m.\u001b[0m\u001b[0msetup_dataframe\u001b[0m\u001b[0;34m(\u001b[0m\u001b[0mhistory\u001b[0m\u001b[0;34m,\u001b[0m \u001b[0minitialize_scales\u001b[0m\u001b[0;34m=\u001b[0m\u001b[0mTrue\u001b[0m\u001b[0;34m)\u001b[0m\u001b[0;34m\u001b[0m\u001b[0m\n\u001b[0m\u001b[1;32m    487\u001b[0m         \u001b[0mself\u001b[0m\u001b[0;34m.\u001b[0m\u001b[0mhistory\u001b[0m \u001b[0;34m=\u001b[0m \u001b[0mhistory\u001b[0m\u001b[0;34m\u001b[0m\u001b[0m\n\u001b[1;32m    488\u001b[0m         \u001b[0mself\u001b[0m\u001b[0;34m.\u001b[0m\u001b[0mset_auto_seasonalities\u001b[0m\u001b[0;34m(\u001b[0m\u001b[0;34m)\u001b[0m\u001b[0;34m\u001b[0m\u001b[0m\n",
      "\u001b[0;32m/home/guilherme/xgboost/local/lib/python2.7/site-packages/fbprophet/forecaster.pyc\u001b[0m in \u001b[0;36msetup_dataframe\u001b[0;34m(self, df, initialize_scales)\u001b[0m\n\u001b[1;32m    177\u001b[0m             \u001b[0mself\u001b[0m\u001b[0;34m.\u001b[0m\u001b[0mt_scale\u001b[0m \u001b[0;34m=\u001b[0m \u001b[0mdf\u001b[0m\u001b[0;34m[\u001b[0m\u001b[0;34m'ds'\u001b[0m\u001b[0;34m]\u001b[0m\u001b[0;34m.\u001b[0m\u001b[0mmax\u001b[0m\u001b[0;34m(\u001b[0m\u001b[0;34m)\u001b[0m \u001b[0;34m-\u001b[0m \u001b[0mself\u001b[0m\u001b[0;34m.\u001b[0m\u001b[0mstart\u001b[0m\u001b[0;34m\u001b[0m\u001b[0m\n\u001b[1;32m    178\u001b[0m \u001b[0;34m\u001b[0m\u001b[0m\n\u001b[0;32m--> 179\u001b[0;31m         \u001b[0mdf\u001b[0m\u001b[0;34m[\u001b[0m\u001b[0;34m't'\u001b[0m\u001b[0;34m]\u001b[0m \u001b[0;34m=\u001b[0m \u001b[0;34m(\u001b[0m\u001b[0mdf\u001b[0m\u001b[0;34m[\u001b[0m\u001b[0;34m'ds'\u001b[0m\u001b[0;34m]\u001b[0m \u001b[0;34m-\u001b[0m \u001b[0mself\u001b[0m\u001b[0;34m.\u001b[0m\u001b[0mstart\u001b[0m\u001b[0;34m)\u001b[0m \u001b[0;34m/\u001b[0m \u001b[0mself\u001b[0m\u001b[0;34m.\u001b[0m\u001b[0mt_scale\u001b[0m\u001b[0;34m\u001b[0m\u001b[0m\n\u001b[0m\u001b[1;32m    180\u001b[0m         \u001b[0;32mif\u001b[0m \u001b[0;34m'y'\u001b[0m \u001b[0;32min\u001b[0m \u001b[0mdf\u001b[0m\u001b[0;34m:\u001b[0m\u001b[0;34m\u001b[0m\u001b[0m\n\u001b[1;32m    181\u001b[0m             \u001b[0mdf\u001b[0m\u001b[0;34m[\u001b[0m\u001b[0;34m'y_scaled'\u001b[0m\u001b[0;34m]\u001b[0m \u001b[0;34m=\u001b[0m \u001b[0mdf\u001b[0m\u001b[0;34m[\u001b[0m\u001b[0;34m'y'\u001b[0m\u001b[0;34m]\u001b[0m \u001b[0;34m/\u001b[0m \u001b[0mself\u001b[0m\u001b[0;34m.\u001b[0m\u001b[0my_scale\u001b[0m\u001b[0;34m\u001b[0m\u001b[0m\n",
      "\u001b[0;32m/home/guilherme/xgboost/local/lib/python2.7/site-packages/pandas/core/ops.pyc\u001b[0m in \u001b[0;36mwrapper\u001b[0;34m(left, right, name, na_op)\u001b[0m\n\u001b[1;32m    694\u001b[0m         \u001b[0mleft\u001b[0m\u001b[0;34m,\u001b[0m \u001b[0mright\u001b[0m \u001b[0;34m=\u001b[0m \u001b[0m_align_method_SERIES\u001b[0m\u001b[0;34m(\u001b[0m\u001b[0mleft\u001b[0m\u001b[0;34m,\u001b[0m \u001b[0mright\u001b[0m\u001b[0;34m)\u001b[0m\u001b[0;34m\u001b[0m\u001b[0m\n\u001b[1;32m    695\u001b[0m \u001b[0;34m\u001b[0m\u001b[0m\n\u001b[0;32m--> 696\u001b[0;31m         \u001b[0mconverted\u001b[0m \u001b[0;34m=\u001b[0m \u001b[0m_Op\u001b[0m\u001b[0;34m.\u001b[0m\u001b[0mget_op\u001b[0m\u001b[0;34m(\u001b[0m\u001b[0mleft\u001b[0m\u001b[0;34m,\u001b[0m \u001b[0mright\u001b[0m\u001b[0;34m,\u001b[0m \u001b[0mname\u001b[0m\u001b[0;34m,\u001b[0m \u001b[0mna_op\u001b[0m\u001b[0;34m)\u001b[0m\u001b[0;34m\u001b[0m\u001b[0m\n\u001b[0m\u001b[1;32m    697\u001b[0m \u001b[0;34m\u001b[0m\u001b[0m\n\u001b[1;32m    698\u001b[0m         \u001b[0mleft\u001b[0m\u001b[0;34m,\u001b[0m \u001b[0mright\u001b[0m \u001b[0;34m=\u001b[0m \u001b[0mconverted\u001b[0m\u001b[0;34m.\u001b[0m\u001b[0mleft\u001b[0m\u001b[0;34m,\u001b[0m \u001b[0mconverted\u001b[0m\u001b[0;34m.\u001b[0m\u001b[0mright\u001b[0m\u001b[0;34m\u001b[0m\u001b[0m\n",
      "\u001b[0;32m/home/guilherme/xgboost/local/lib/python2.7/site-packages/pandas/core/ops.pyc\u001b[0m in \u001b[0;36mget_op\u001b[0;34m(cls, left, right, name, na_op)\u001b[0m\n\u001b[1;32m    328\u001b[0m             \u001b[0;32mreturn\u001b[0m \u001b[0m_Op\u001b[0m\u001b[0;34m(\u001b[0m\u001b[0mleft\u001b[0m\u001b[0;34m,\u001b[0m \u001b[0mright\u001b[0m\u001b[0;34m,\u001b[0m \u001b[0mname\u001b[0m\u001b[0;34m,\u001b[0m \u001b[0mna_op\u001b[0m\u001b[0;34m)\u001b[0m\u001b[0;34m\u001b[0m\u001b[0m\n\u001b[1;32m    329\u001b[0m         \u001b[0;32melse\u001b[0m\u001b[0;34m:\u001b[0m\u001b[0;34m\u001b[0m\u001b[0m\n\u001b[0;32m--> 330\u001b[0;31m             \u001b[0;32mreturn\u001b[0m \u001b[0m_TimeOp\u001b[0m\u001b[0;34m(\u001b[0m\u001b[0mleft\u001b[0m\u001b[0;34m,\u001b[0m \u001b[0mright\u001b[0m\u001b[0;34m,\u001b[0m \u001b[0mname\u001b[0m\u001b[0;34m,\u001b[0m \u001b[0mna_op\u001b[0m\u001b[0;34m)\u001b[0m\u001b[0;34m\u001b[0m\u001b[0m\n\u001b[0m\u001b[1;32m    331\u001b[0m \u001b[0;34m\u001b[0m\u001b[0m\n\u001b[1;32m    332\u001b[0m \u001b[0;34m\u001b[0m\u001b[0m\n",
      "\u001b[0;32m/home/guilherme/xgboost/local/lib/python2.7/site-packages/pandas/core/ops.pyc\u001b[0m in \u001b[0;36m__init__\u001b[0;34m(self, left, right, name, na_op)\u001b[0m\n\u001b[1;32m    341\u001b[0m         \u001b[0msuper\u001b[0m\u001b[0;34m(\u001b[0m\u001b[0m_TimeOp\u001b[0m\u001b[0;34m,\u001b[0m \u001b[0mself\u001b[0m\u001b[0;34m)\u001b[0m\u001b[0;34m.\u001b[0m\u001b[0m__init__\u001b[0m\u001b[0;34m(\u001b[0m\u001b[0mleft\u001b[0m\u001b[0;34m,\u001b[0m \u001b[0mright\u001b[0m\u001b[0;34m,\u001b[0m \u001b[0mname\u001b[0m\u001b[0;34m,\u001b[0m \u001b[0mna_op\u001b[0m\u001b[0;34m)\u001b[0m\u001b[0;34m\u001b[0m\u001b[0m\n\u001b[1;32m    342\u001b[0m \u001b[0;34m\u001b[0m\u001b[0m\n\u001b[0;32m--> 343\u001b[0;31m         \u001b[0mlvalues\u001b[0m \u001b[0;34m=\u001b[0m \u001b[0mself\u001b[0m\u001b[0;34m.\u001b[0m\u001b[0m_convert_to_array\u001b[0m\u001b[0;34m(\u001b[0m\u001b[0mleft\u001b[0m\u001b[0;34m,\u001b[0m \u001b[0mname\u001b[0m\u001b[0;34m=\u001b[0m\u001b[0mname\u001b[0m\u001b[0;34m)\u001b[0m\u001b[0;34m\u001b[0m\u001b[0m\n\u001b[0m\u001b[1;32m    344\u001b[0m         \u001b[0mrvalues\u001b[0m \u001b[0;34m=\u001b[0m \u001b[0mself\u001b[0m\u001b[0;34m.\u001b[0m\u001b[0m_convert_to_array\u001b[0m\u001b[0;34m(\u001b[0m\u001b[0mright\u001b[0m\u001b[0;34m,\u001b[0m \u001b[0mname\u001b[0m\u001b[0;34m=\u001b[0m\u001b[0mname\u001b[0m\u001b[0;34m,\u001b[0m \u001b[0mother\u001b[0m\u001b[0;34m=\u001b[0m\u001b[0mlvalues\u001b[0m\u001b[0;34m)\u001b[0m\u001b[0;34m\u001b[0m\u001b[0m\n\u001b[1;32m    345\u001b[0m \u001b[0;34m\u001b[0m\u001b[0m\n",
      "\u001b[0;32m/home/guilherme/xgboost/local/lib/python2.7/site-packages/pandas/core/ops.pyc\u001b[0m in \u001b[0;36m_convert_to_array\u001b[0;34m(self, values, name, other)\u001b[0m\n\u001b[1;32m    452\u001b[0m             \u001b[0msupplied_dtype\u001b[0m \u001b[0;34m=\u001b[0m \u001b[0mvalues\u001b[0m\u001b[0;34m.\u001b[0m\u001b[0mdtype\u001b[0m\u001b[0;34m\u001b[0m\u001b[0m\n\u001b[1;32m    453\u001b[0m         \u001b[0minferred_type\u001b[0m \u001b[0;34m=\u001b[0m \u001b[0msupplied_dtype\u001b[0m \u001b[0;32mor\u001b[0m \u001b[0mlib\u001b[0m\u001b[0;34m.\u001b[0m\u001b[0minfer_dtype\u001b[0m\u001b[0;34m(\u001b[0m\u001b[0mvalues\u001b[0m\u001b[0;34m)\u001b[0m\u001b[0;34m\u001b[0m\u001b[0m\n\u001b[0;32m--> 454\u001b[0;31m         if (inferred_type in ('datetime64', 'datetime', 'date', 'time') or\n\u001b[0m\u001b[1;32m    455\u001b[0m                 is_datetimetz(inferred_type)):\n\u001b[1;32m    456\u001b[0m             \u001b[0;31m# if we have a other of timedelta, but use pd.NaT here we\u001b[0m\u001b[0;34m\u001b[0m\u001b[0;34m\u001b[0m\u001b[0m\n",
      "\u001b[0;31mTypeError\u001b[0m: data type \"datetime\" not understood"
     ]
    }
   ],
   "source": [
    "predictions_arrecadado = {}\n",
    "for codigo in ibge:\n",
    "    m = Prophet()\n",
    "    m.fit(df_arrecadado.ix[df_arrecadado['cd_ibge']==codigo, ['ds','y']])\n",
    "    future = m.make_future_dataframe(periods=1, freq='A')\n",
    "    forecast = m.predict(future)\n",
    "    predictions_arrecadado[codigo] = forecast['yhat'].tail(1).values[0]"
   ]
  },
  {
   "cell_type": "code",
   "execution_count": 24,
   "metadata": {},
   "outputs": [
    {
     "data": {
      "text/plain": [
       "{1100015: 59520548.883070067,\n",
       " 1100023: 140429130.23008752,\n",
       " 1100031: 12279190.089062426,\n",
       " 1100049: 156976326.2100735,\n",
       " 1100056: 47227935.025527462,\n",
       " 1100064: 45206459.027018793,\n",
       " 1100072: 9701331.3855782412,\n",
       " 1100080: 15383426.245127229,\n",
       " 1100098: 50480825.129044726,\n",
       " 1100106: 53376371.162592813,\n",
       " 1100114: 140180708.19136465,\n",
       " 1100122: 178445242.45514402,\n",
       " 1100130: 49073615.341995232,\n",
       " 1100148: 49545576.403132364,\n",
       " 1100155: 114968841.79146123,\n",
       " 1100189: 81321778.966478422,\n",
       " 1100205: 501246691.9268266,\n",
       " 1100254: 42312694.517231971,\n",
       " 1100262: 3259779.1834147768,\n",
       " 1100288: 113923396.81900918,\n",
       " 1100296: 21644321.494926769,\n",
       " 1100304: 132406009.00577594,\n",
       " 1100320: 40192086.677132167,\n",
       " 1100338: 29206801.759816524,\n",
       " 1100346: 30373562.937215272,\n",
       " 1100379: 8455946.7252041586,\n",
       " 1100403: 24776266.213480033,\n",
       " 1100452: 49896892.843271062,\n",
       " 1100502: 13598903.27013219,\n",
       " 1100601: 7146496.7434654096,\n",
       " 1100700: 4709192.576638246,\n",
       " 1100809: 8921690.3682621755,\n",
       " 1100908: 1742032.9251603214,\n",
       " 1100924: 5612086.1535432925,\n",
       " 1100940: 11196675.338131476,\n",
       " 1101005: 1572786.8258079265,\n",
       " 1101104: 3330163.0743344156,\n",
       " 1101203: 14106036.044177547,\n",
       " 1101302: 27482850.842097837,\n",
       " 1101401: 21000177.124295425,\n",
       " 1101435: 5355569.7617721157,\n",
       " 1101450: 765533.46683201659,\n",
       " 1101468: 276151.09515993518,\n",
       " 1101476: 2292972.0234750686,\n",
       " 1101484: 1789216.5371478898,\n",
       " 1101492: 18343598.296748277,\n",
       " 1101500: 9189982.1294423863,\n",
       " 1101559: 1653758.7316380418,\n",
       " 1101609: 3818488.7180199912,\n",
       " 1101708: 27877050.021253578,\n",
       " 1101757: 2363722.3205239139,\n",
       " 1101807: 6666397.7099537775,\n",
       " 1200013: 8654238.2079527546,\n",
       " 1200054: 8109965.4159573978,\n",
       " 1200104: 37432840.64646221,\n",
       " 1200138: 3089120.7069703233,\n",
       " 1200179: 1351990.8947164437,\n",
       " 1200203: 160370831.02790564,\n",
       " 1200252: 18518442.027019139,\n",
       " 1200302: 38878010.588623695,\n",
       " 1200328: 1768401.1554756155,\n",
       " 1200336: 16329222.002872869,\n",
       " 1200344: 7370285.1454318864,\n",
       " 1200351: 2849984.2195681818,\n",
       " 1200385: 20761038.987114452,\n",
       " 1200393: 1432609.0853949466,\n",
       " 1200401: 537690501.86858535,\n",
       " 1200427: 2031816.1802802586,\n",
       " 1200435: 622261.41474431742,\n",
       " 1200450: 20033433.742108442,\n",
       " 1200500: 58578748.668229997,\n",
       " 1200609: 44679512.924698412,\n",
       " 1200708: 23320186.856232516,\n",
       " 1200807: 2959781.6373885283,\n",
       " 1300029: 5054422.1563443607,\n",
       " 1300060: 3332950.8184225401,\n",
       " 1300086: 4043061.3744017305,\n",
       " 1300102: 6188502.4531937931,\n",
       " 1300144: 13769350.563024402,\n",
       " 1300201: 3021335.7496782662,\n",
       " 1300300: 29409886.801960804,\n",
       " 1300409: 10439416.86056141,\n",
       " 1300508: 17466490.163249779,\n",
       " 1300607: 29779924.236027755,\n",
       " 1300631: 11370416.452617325,\n",
       " 1300680: 4357151.3659816934,\n",
       " 1300706: 33361845.887856495,\n",
       " 1300805: 26275327.298602059,\n",
       " 1300839: 1518458.5619603784,\n",
       " 1300904: 9751627.395193439,\n",
       " 1301001: 20768593.138232462,\n",
       " 1301100: 19938144.94577127,\n",
       " 1301159: 5932966.4982366757,\n",
       " 1301209: 64349770.681458741,\n",
       " 1301308: 20568452.023389351,\n",
       " 1301407: 32522391.085892603,\n",
       " 1301506: 13010079.576738801,\n",
       " 1301605: 18519867.05515388,\n",
       " 1301654: 1468099.6613479233,\n",
       " 1301704: 29562056.611647151,\n",
       " 1301803: 7345767.1599340588,\n",
       " 1301852: 30779728.90755365,\n",
       " 1301902: 127733407.59345332,\n",
       " 1301951: 5006222.6197517542,\n",
       " 1302009: 4540956.3795049824,\n",
       " 1302108: 1437664.7018854967,\n",
       " 1302207: 3456308.1295616319,\n",
       " 1302306: 9112018.2430285849,\n",
       " 1302405: 35178474.789163649,\n",
       " 1302504: 126003513.64112431,\n",
       " 1302553: 11709105.150695499,\n",
       " 1302603: 2129963441.4438691,\n",
       " 1302702: 32344227.95865703,\n",
       " 1302801: 1945222.9985921243,\n",
       " 1302900: 65262725.90331386,\n",
       " 1303007: 22581712.815935835,\n",
       " 1303106: 24177401.291937958,\n",
       " 1303205: 10745455.465342067,\n",
       " 1303304: 16262446.26586587,\n",
       " 1303403: 105632519.8118656,\n",
       " 1303502: 9744930.2765098624,\n",
       " 1303536: 18742491.690721717,\n",
       " 1303569: 16471815.383632952,\n",
       " 1303601: 4304752.419467085,\n",
       " 1303700: 20645565.904588018,\n",
       " 1303809: 50251533.40807955,\n",
       " 1303908: 27412963.146129303,\n",
       " 1303957: 3389709.5602972866,\n",
       " 1304005: 3397175.105646207,\n",
       " 1304062: 54990317.747221991,\n",
       " 1304104: 9048987.9816777185,\n",
       " 1304203: 99783459.630808681,\n",
       " 1304237: 4803299.9525499316,\n",
       " 1304260: 3385665.9010525048,\n",
       " 1304302: 15608451.353499459,\n",
       " 1304401: 7457091.5331727155,\n",
       " 1400027: 1285292.9418723297,\n",
       " 1400050: 5961230.9156513885,\n",
       " 1400100: 325129268.82738459,\n",
       " 1400159: 2682979.5249936366,\n",
       " 1400175: 2324889.494020767,\n",
       " 1400209: 19022981.197251264,\n",
       " 1400233: 1574869.7008714285,\n",
       " 1400282: 948676.00306300342,\n",
       " 1400308: 13744723.949548882,\n",
       " 1400407: 2466632.9296370754,\n",
       " 1400456: 5327101.4549176414,\n",
       " 1400472: 25896565.595698949,\n",
       " 1400506: 14094102.797871055,\n",
       " 1400605: 2912119.8353020353,\n",
       " 1400704: 1776607.7177488664,\n",
       " 1500107: 184165431.54441825,\n",
       " 1500131: 4615084.6942170355,\n",
       " 1500206: 47727972.116204791,\n",
       " 1500305: 15766032.450013848,\n",
       " 1500347: 9669441.3268407732,\n",
       " 1500404: 75789345.558313891,\n",
       " 1500503: 30692996.873298384}"
      ]
     },
     "execution_count": 24,
     "metadata": {},
     "output_type": "execute_result"
    }
   ],
   "source": [
    "predictions_arrecadado"
   ]
  },
  {
   "cell_type": "code",
   "execution_count": 25,
   "metadata": {
    "scrolled": true
   },
   "outputs": [
    {
     "data": {
      "text/plain": [
       "158"
      ]
     },
     "execution_count": 25,
     "metadata": {},
     "output_type": "execute_result"
    }
   ],
   "source": [
    "len(predictions_arrecadado)"
   ]
  },
  {
   "cell_type": "code",
   "execution_count": 9,
   "metadata": {
    "scrolled": true
   },
   "outputs": [
    {
     "data": {
      "text/plain": [
       "5570"
      ]
     },
     "execution_count": 9,
     "metadata": {},
     "output_type": "execute_result"
    }
   ],
   "source": [
    "len(ibge)"
   ]
  },
  {
   "cell_type": "code",
   "execution_count": null,
   "metadata": {
    "collapsed": true
   },
   "outputs": [],
   "source": [
    "df_emissao.ix[df_emissao['cd_ibge']==1100031, ['ds','y']].tail(5)"
   ]
  },
  {
   "cell_type": "code",
   "execution_count": null,
   "metadata": {
    "collapsed": true
   },
   "outputs": [],
   "source": [
    "m = Prophet()"
   ]
  },
  {
   "cell_type": "code",
   "execution_count": null,
   "metadata": {
    "collapsed": true
   },
   "outputs": [],
   "source": [
    "m.fit(df_emissao)"
   ]
  },
  {
   "cell_type": "code",
   "execution_count": null,
   "metadata": {
    "collapsed": true
   },
   "outputs": [],
   "source": [
    "future = m.make_future_dataframe(periods=1, freq='A')"
   ]
  },
  {
   "cell_type": "code",
   "execution_count": null,
   "metadata": {
    "collapsed": true
   },
   "outputs": [],
   "source": [
    "forecast = m.predict(future)"
   ]
  },
  {
   "cell_type": "code",
   "execution_count": null,
   "metadata": {
    "collapsed": true
   },
   "outputs": [],
   "source": [
    "forecast.columns"
   ]
  },
  {
   "cell_type": "code",
   "execution_count": null,
   "metadata": {
    "collapsed": true
   },
   "outputs": [],
   "source": [
    "forecast"
   ]
  },
  {
   "cell_type": "code",
   "execution_count": null,
   "metadata": {
    "collapsed": true
   },
   "outputs": [],
   "source": [
    "m.plot(forecast)"
   ]
  },
  {
   "cell_type": "code",
   "execution_count": null,
   "metadata": {
    "collapsed": true
   },
   "outputs": [],
   "source": [
    "df_emissao.shape"
   ]
  }
 ],
 "metadata": {
  "kernelspec": {
   "display_name": "Python 2",
   "language": "python",
   "name": "python2"
  },
  "language_info": {
   "codemirror_mode": {
    "name": "ipython",
    "version": 2
   },
   "file_extension": ".py",
   "mimetype": "text/x-python",
   "name": "python",
   "nbconvert_exporter": "python",
   "pygments_lexer": "ipython2",
   "version": "2.7.12"
  }
 },
 "nbformat": 4,
 "nbformat_minor": 2
}
