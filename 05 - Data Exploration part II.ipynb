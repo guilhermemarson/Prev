{
 "cells": [
  {
   "cell_type": "code",
   "execution_count": 1,
   "metadata": {
    "collapsed": true
   },
   "outputs": [],
   "source": [
    "%matplotlib inline\n",
    "import pandas as pd\n",
    "from pandas import set_option\n",
    "#Limit dataframe exibition to 10 rows\n",
    "set_option(\"display.max_rows\", 10)\n",
    "import scipy as sp\n",
    "import matplotlib.pyplot as plt\n",
    "import seaborn as sns\n",
    "import numpy as np\n",
    "import gc"
   ]
  },
  {
   "cell_type": "markdown",
   "metadata": {},
   "source": [
    "##### Agora começaremos a fazer a análise por cidades"
   ]
  },
  {
   "cell_type": "code",
   "execution_count": 2,
   "metadata": {
    "collapsed": true
   },
   "outputs": [],
   "source": [
    "prev = pd.read_csv('./processed/prev.csv', encoding='latin1', sep=',')\n",
    "prev.drop('Unnamed: 0', axis=1, inplace=True)"
   ]
  },
  {
   "cell_type": "code",
   "execution_count": 3,
   "metadata": {
    "collapsed": false
   },
   "outputs": [
    {
     "data": {
      "text/html": [
       "<div>\n",
       "<table border=\"1\" class=\"dataframe\">\n",
       "  <thead>\n",
       "    <tr style=\"text-align: right;\">\n",
       "      <th></th>\n",
       "      <th>municipio</th>\n",
       "      <th>estado</th>\n",
       "      <th>ano</th>\n",
       "      <th>vl_emissao</th>\n",
       "      <th>vl_arrecadado</th>\n",
       "    </tr>\n",
       "  </thead>\n",
       "  <tbody>\n",
       "    <tr>\n",
       "      <th>0</th>\n",
       "      <td>Alta Floresta D'Oeste</td>\n",
       "      <td>Rondônia</td>\n",
       "      <td>2000</td>\n",
       "      <td>5171322</td>\n",
       "      <td>464123</td>\n",
       "    </tr>\n",
       "    <tr>\n",
       "      <th>1</th>\n",
       "      <td>Ariquemes</td>\n",
       "      <td>Rondônia</td>\n",
       "      <td>2000</td>\n",
       "      <td>14769145</td>\n",
       "      <td>7186619</td>\n",
       "    </tr>\n",
       "    <tr>\n",
       "      <th>2</th>\n",
       "      <td>Cabixi</td>\n",
       "      <td>Rondônia</td>\n",
       "      <td>2000</td>\n",
       "      <td>1266184</td>\n",
       "      <td>240933</td>\n",
       "    </tr>\n",
       "    <tr>\n",
       "      <th>3</th>\n",
       "      <td>Cacoal</td>\n",
       "      <td>Rondônia</td>\n",
       "      <td>2000</td>\n",
       "      <td>15722379</td>\n",
       "      <td>7991211</td>\n",
       "    </tr>\n",
       "    <tr>\n",
       "      <th>4</th>\n",
       "      <td>Cerejeiras</td>\n",
       "      <td>Rondônia</td>\n",
       "      <td>2000</td>\n",
       "      <td>5709191</td>\n",
       "      <td>1414928</td>\n",
       "    </tr>\n",
       "    <tr>\n",
       "      <th>...</th>\n",
       "      <td>...</td>\n",
       "      <td>...</td>\n",
       "      <td>...</td>\n",
       "      <td>...</td>\n",
       "      <td>...</td>\n",
       "    </tr>\n",
       "    <tr>\n",
       "      <th>94685</th>\n",
       "      <td>Vianópolis</td>\n",
       "      <td>Goiás</td>\n",
       "      <td>2016</td>\n",
       "      <td>23471088</td>\n",
       "      <td>6128336</td>\n",
       "    </tr>\n",
       "    <tr>\n",
       "      <th>94686</th>\n",
       "      <td>Vicentinópolis</td>\n",
       "      <td>Goiás</td>\n",
       "      <td>2016</td>\n",
       "      <td>8885527</td>\n",
       "      <td>0</td>\n",
       "    </tr>\n",
       "    <tr>\n",
       "      <th>94687</th>\n",
       "      <td>Vila Boa</td>\n",
       "      <td>Goiás</td>\n",
       "      <td>2016</td>\n",
       "      <td>4181310</td>\n",
       "      <td>0</td>\n",
       "    </tr>\n",
       "    <tr>\n",
       "      <th>94688</th>\n",
       "      <td>Vila Propício</td>\n",
       "      <td>Goiás</td>\n",
       "      <td>2016</td>\n",
       "      <td>3300148</td>\n",
       "      <td>0</td>\n",
       "    </tr>\n",
       "    <tr>\n",
       "      <th>94689</th>\n",
       "      <td>Brasília</td>\n",
       "      <td>Distrito Federal</td>\n",
       "      <td>2016</td>\n",
       "      <td>5136271533</td>\n",
       "      <td>14510926130</td>\n",
       "    </tr>\n",
       "  </tbody>\n",
       "</table>\n",
       "<p>94690 rows × 5 columns</p>\n",
       "</div>"
      ],
      "text/plain": [
       "                   municipio            estado   ano  vl_emissao  \\\n",
       "0      Alta Floresta D'Oeste          Rondônia  2000     5171322   \n",
       "1                  Ariquemes          Rondônia  2000    14769145   \n",
       "2                     Cabixi          Rondônia  2000     1266184   \n",
       "3                     Cacoal          Rondônia  2000    15722379   \n",
       "4                 Cerejeiras          Rondônia  2000     5709191   \n",
       "...                      ...               ...   ...         ...   \n",
       "94685             Vianópolis             Goiás  2016    23471088   \n",
       "94686         Vicentinópolis             Goiás  2016     8885527   \n",
       "94687               Vila Boa             Goiás  2016     4181310   \n",
       "94688          Vila Propício             Goiás  2016     3300148   \n",
       "94689               Brasília  Distrito Federal  2016  5136271533   \n",
       "\n",
       "       vl_arrecadado  \n",
       "0             464123  \n",
       "1            7186619  \n",
       "2             240933  \n",
       "3            7991211  \n",
       "4            1414928  \n",
       "...              ...  \n",
       "94685        6128336  \n",
       "94686              0  \n",
       "94687              0  \n",
       "94688              0  \n",
       "94689    14510926130  \n",
       "\n",
       "[94690 rows x 5 columns]"
      ]
     },
     "execution_count": 3,
     "metadata": {},
     "output_type": "execute_result"
    }
   ],
   "source": [
    "prev"
   ]
  },
  {
   "cell_type": "code",
   "execution_count": 4,
   "metadata": {
    "collapsed": true
   },
   "outputs": [],
   "source": [
    "prev['dif'] = prev['vl_arrecadado'] - prev['vl_emissao']"
   ]
  },
  {
   "cell_type": "code",
   "execution_count": 5,
   "metadata": {
    "collapsed": false,
    "scrolled": true
   },
   "outputs": [
    {
     "data": {
      "text/html": [
       "<div>\n",
       "<table border=\"1\" class=\"dataframe\">\n",
       "  <thead>\n",
       "    <tr style=\"text-align: right;\">\n",
       "      <th></th>\n",
       "      <th>municipio</th>\n",
       "      <th>estado</th>\n",
       "      <th>ano</th>\n",
       "      <th>vl_emissao</th>\n",
       "      <th>vl_arrecadado</th>\n",
       "      <th>dif</th>\n",
       "    </tr>\n",
       "  </thead>\n",
       "  <tbody>\n",
       "    <tr>\n",
       "      <th>0</th>\n",
       "      <td>Alta Floresta D'Oeste</td>\n",
       "      <td>Rondônia</td>\n",
       "      <td>2000</td>\n",
       "      <td>5171322</td>\n",
       "      <td>464123</td>\n",
       "      <td>-4707199</td>\n",
       "    </tr>\n",
       "    <tr>\n",
       "      <th>1</th>\n",
       "      <td>Ariquemes</td>\n",
       "      <td>Rondônia</td>\n",
       "      <td>2000</td>\n",
       "      <td>14769145</td>\n",
       "      <td>7186619</td>\n",
       "      <td>-7582526</td>\n",
       "    </tr>\n",
       "    <tr>\n",
       "      <th>2</th>\n",
       "      <td>Cabixi</td>\n",
       "      <td>Rondônia</td>\n",
       "      <td>2000</td>\n",
       "      <td>1266184</td>\n",
       "      <td>240933</td>\n",
       "      <td>-1025251</td>\n",
       "    </tr>\n",
       "    <tr>\n",
       "      <th>3</th>\n",
       "      <td>Cacoal</td>\n",
       "      <td>Rondônia</td>\n",
       "      <td>2000</td>\n",
       "      <td>15722379</td>\n",
       "      <td>7991211</td>\n",
       "      <td>-7731168</td>\n",
       "    </tr>\n",
       "    <tr>\n",
       "      <th>4</th>\n",
       "      <td>Cerejeiras</td>\n",
       "      <td>Rondônia</td>\n",
       "      <td>2000</td>\n",
       "      <td>5709191</td>\n",
       "      <td>1414928</td>\n",
       "      <td>-4294263</td>\n",
       "    </tr>\n",
       "    <tr>\n",
       "      <th>...</th>\n",
       "      <td>...</td>\n",
       "      <td>...</td>\n",
       "      <td>...</td>\n",
       "      <td>...</td>\n",
       "      <td>...</td>\n",
       "      <td>...</td>\n",
       "    </tr>\n",
       "    <tr>\n",
       "      <th>94685</th>\n",
       "      <td>Vianópolis</td>\n",
       "      <td>Goiás</td>\n",
       "      <td>2016</td>\n",
       "      <td>23471088</td>\n",
       "      <td>6128336</td>\n",
       "      <td>-17342752</td>\n",
       "    </tr>\n",
       "    <tr>\n",
       "      <th>94686</th>\n",
       "      <td>Vicentinópolis</td>\n",
       "      <td>Goiás</td>\n",
       "      <td>2016</td>\n",
       "      <td>8885527</td>\n",
       "      <td>0</td>\n",
       "      <td>-8885527</td>\n",
       "    </tr>\n",
       "    <tr>\n",
       "      <th>94687</th>\n",
       "      <td>Vila Boa</td>\n",
       "      <td>Goiás</td>\n",
       "      <td>2016</td>\n",
       "      <td>4181310</td>\n",
       "      <td>0</td>\n",
       "      <td>-4181310</td>\n",
       "    </tr>\n",
       "    <tr>\n",
       "      <th>94688</th>\n",
       "      <td>Vila Propício</td>\n",
       "      <td>Goiás</td>\n",
       "      <td>2016</td>\n",
       "      <td>3300148</td>\n",
       "      <td>0</td>\n",
       "      <td>-3300148</td>\n",
       "    </tr>\n",
       "    <tr>\n",
       "      <th>94689</th>\n",
       "      <td>Brasília</td>\n",
       "      <td>Distrito Federal</td>\n",
       "      <td>2016</td>\n",
       "      <td>5136271533</td>\n",
       "      <td>14510926130</td>\n",
       "      <td>9374654597</td>\n",
       "    </tr>\n",
       "  </tbody>\n",
       "</table>\n",
       "<p>94690 rows × 6 columns</p>\n",
       "</div>"
      ],
      "text/plain": [
       "                   municipio            estado   ano  vl_emissao  \\\n",
       "0      Alta Floresta D'Oeste          Rondônia  2000     5171322   \n",
       "1                  Ariquemes          Rondônia  2000    14769145   \n",
       "2                     Cabixi          Rondônia  2000     1266184   \n",
       "3                     Cacoal          Rondônia  2000    15722379   \n",
       "4                 Cerejeiras          Rondônia  2000     5709191   \n",
       "...                      ...               ...   ...         ...   \n",
       "94685             Vianópolis             Goiás  2016    23471088   \n",
       "94686         Vicentinópolis             Goiás  2016     8885527   \n",
       "94687               Vila Boa             Goiás  2016     4181310   \n",
       "94688          Vila Propício             Goiás  2016     3300148   \n",
       "94689               Brasília  Distrito Federal  2016  5136271533   \n",
       "\n",
       "       vl_arrecadado         dif  \n",
       "0             464123    -4707199  \n",
       "1            7186619    -7582526  \n",
       "2             240933    -1025251  \n",
       "3            7991211    -7731168  \n",
       "4            1414928    -4294263  \n",
       "...              ...         ...  \n",
       "94685        6128336   -17342752  \n",
       "94686              0    -8885527  \n",
       "94687              0    -4181310  \n",
       "94688              0    -3300148  \n",
       "94689    14510926130  9374654597  \n",
       "\n",
       "[94690 rows x 6 columns]"
      ]
     },
     "execution_count": 5,
     "metadata": {},
     "output_type": "execute_result"
    }
   ],
   "source": [
    "prev"
   ]
  },
  {
   "cell_type": "markdown",
   "metadata": {},
   "source": [
    "Vou dropar as colunas de valor arrecadado e emitido para ficar apenas com a diferença entre eles"
   ]
  },
  {
   "cell_type": "code",
   "execution_count": 6,
   "metadata": {
    "collapsed": true
   },
   "outputs": [],
   "source": [
    "prev.drop(['vl_emissao', 'vl_arrecadado'], inplace=True, axis=1)"
   ]
  },
  {
   "cell_type": "markdown",
   "metadata": {},
   "source": [
    "Salvando o arquivo para futuros usos"
   ]
  },
  {
   "cell_type": "code",
   "execution_count": 7,
   "metadata": {
    "collapsed": true
   },
   "outputs": [],
   "source": [
    "prev.to_csv('./processed/prev_com_dif.csv', encoding='latin1')"
   ]
  },
  {
   "cell_type": "code",
   "execution_count": 8,
   "metadata": {
    "collapsed": false
   },
   "outputs": [],
   "source": [
    "agrp_por_cidade = pd.DataFrame(prev.groupby(by=['estado','municipio'])['dif'].sum()).reset_index()"
   ]
  },
  {
   "cell_type": "markdown",
   "metadata": {},
   "source": [
    "### As 10 cidades com o maior déficit de arrecadação de INSS acumulado nos últimos 16 anos"
   ]
  },
  {
   "cell_type": "code",
   "execution_count": 9,
   "metadata": {
    "collapsed": false
   },
   "outputs": [
    {
     "data": {
      "text/html": [
       "<div>\n",
       "<table border=\"1\" class=\"dataframe\">\n",
       "  <thead>\n",
       "    <tr style=\"text-align: right;\">\n",
       "      <th></th>\n",
       "      <th>estado</th>\n",
       "      <th>municipio</th>\n",
       "      <th>dif</th>\n",
       "    </tr>\n",
       "  </thead>\n",
       "  <tbody>\n",
       "    <tr>\n",
       "      <th>5314</th>\n",
       "      <td>São Paulo</td>\n",
       "      <td>Santo André</td>\n",
       "      <td>-15462625755</td>\n",
       "    </tr>\n",
       "    <tr>\n",
       "      <th>4334</th>\n",
       "      <td>Rio de Janeiro</td>\n",
       "      <td>São Gonçalo</td>\n",
       "      <td>-13000113066</td>\n",
       "    </tr>\n",
       "    <tr>\n",
       "      <th>4281</th>\n",
       "      <td>Rio de Janeiro</td>\n",
       "      <td>Duque de Caxias</td>\n",
       "      <td>-12915882415</td>\n",
       "    </tr>\n",
       "    <tr>\n",
       "      <th>5321</th>\n",
       "      <td>São Paulo</td>\n",
       "      <td>Santos</td>\n",
       "      <td>-11566804944</td>\n",
       "    </tr>\n",
       "    <tr>\n",
       "      <th>1979</th>\n",
       "      <td>Minas Gerais</td>\n",
       "      <td>Juiz de Fora</td>\n",
       "      <td>-9677286754</td>\n",
       "    </tr>\n",
       "    <tr>\n",
       "      <th>535</th>\n",
       "      <td>Bahia</td>\n",
       "      <td>Salvador</td>\n",
       "      <td>-9270394274</td>\n",
       "    </tr>\n",
       "    <tr>\n",
       "      <th>4348</th>\n",
       "      <td>Rio de Janeiro</td>\n",
       "      <td>Volta Redonda</td>\n",
       "      <td>-8688791855</td>\n",
       "    </tr>\n",
       "    <tr>\n",
       "      <th>4306</th>\n",
       "      <td>Rio de Janeiro</td>\n",
       "      <td>Nova Iguaçu</td>\n",
       "      <td>-8652891268</td>\n",
       "    </tr>\n",
       "    <tr>\n",
       "      <th>4304</th>\n",
       "      <td>Rio de Janeiro</td>\n",
       "      <td>Niterói</td>\n",
       "      <td>-8327767976</td>\n",
       "    </tr>\n",
       "    <tr>\n",
       "      <th>5365</th>\n",
       "      <td>São Paulo</td>\n",
       "      <td>São Vicente</td>\n",
       "      <td>-7733010710</td>\n",
       "    </tr>\n",
       "  </tbody>\n",
       "</table>\n",
       "</div>"
      ],
      "text/plain": [
       "              estado        municipio          dif\n",
       "5314       São Paulo      Santo André -15462625755\n",
       "4334  Rio de Janeiro      São Gonçalo -13000113066\n",
       "4281  Rio de Janeiro  Duque de Caxias -12915882415\n",
       "5321       São Paulo           Santos -11566804944\n",
       "1979    Minas Gerais     Juiz de Fora  -9677286754\n",
       "535            Bahia         Salvador  -9270394274\n",
       "4348  Rio de Janeiro    Volta Redonda  -8688791855\n",
       "4306  Rio de Janeiro      Nova Iguaçu  -8652891268\n",
       "4304  Rio de Janeiro          Niterói  -8327767976\n",
       "5365       São Paulo      São Vicente  -7733010710"
      ]
     },
     "execution_count": 9,
     "metadata": {},
     "output_type": "execute_result"
    }
   ],
   "source": [
    "agrp_por_cidade.sort_values(by='dif', ascending=True).head(10)"
   ]
  },
  {
   "cell_type": "markdown",
   "metadata": {},
   "source": [
    "### As 10 cidades com o maior Superávit de arrecadação de INSS acumulado nos últimos 16 anos"
   ]
  },
  {
   "cell_type": "code",
   "execution_count": 10,
   "metadata": {
    "collapsed": false
   },
   "outputs": [
    {
     "data": {
      "text/html": [
       "<div>\n",
       "<table border=\"1\" class=\"dataframe\">\n",
       "  <thead>\n",
       "    <tr style=\"text-align: right;\">\n",
       "      <th></th>\n",
       "      <th>estado</th>\n",
       "      <th>municipio</th>\n",
       "      <th>dif</th>\n",
       "    </tr>\n",
       "  </thead>\n",
       "  <tbody>\n",
       "    <tr>\n",
       "      <th>5358</th>\n",
       "      <td>São Paulo</td>\n",
       "      <td>São Paulo</td>\n",
       "      <td>401771313701</td>\n",
       "    </tr>\n",
       "    <tr>\n",
       "      <th>803</th>\n",
       "      <td>Distrito Federal</td>\n",
       "      <td>Brasília</td>\n",
       "      <td>91563949737</td>\n",
       "    </tr>\n",
       "    <tr>\n",
       "      <th>4324</th>\n",
       "      <td>Rio de Janeiro</td>\n",
       "      <td>Rio de Janeiro</td>\n",
       "      <td>70355688363</td>\n",
       "    </tr>\n",
       "    <tr>\n",
       "      <th>1626</th>\n",
       "      <td>Minas Gerais</td>\n",
       "      <td>Belo Horizonte</td>\n",
       "      <td>33569292937</td>\n",
       "    </tr>\n",
       "    <tr>\n",
       "      <th>2508</th>\n",
       "      <td>Paraná</td>\n",
       "      <td>Curitiba</td>\n",
       "      <td>31644476639</td>\n",
       "    </tr>\n",
       "    <tr>\n",
       "      <th>4081</th>\n",
       "      <td>Rio Grande do Sul</td>\n",
       "      <td>Porto Alegre</td>\n",
       "      <td>23169762772</td>\n",
       "    </tr>\n",
       "    <tr>\n",
       "      <th>4886</th>\n",
       "      <td>São Paulo</td>\n",
       "      <td>Campinas</td>\n",
       "      <td>15847346187</td>\n",
       "    </tr>\n",
       "    <tr>\n",
       "      <th>4841</th>\n",
       "      <td>São Paulo</td>\n",
       "      <td>Barueri</td>\n",
       "      <td>12975719844</td>\n",
       "    </tr>\n",
       "    <tr>\n",
       "      <th>5167</th>\n",
       "      <td>São Paulo</td>\n",
       "      <td>Osasco</td>\n",
       "      <td>11636764619</td>\n",
       "    </tr>\n",
       "    <tr>\n",
       "      <th>879</th>\n",
       "      <td>Espírito Santo</td>\n",
       "      <td>Vitória</td>\n",
       "      <td>7563341176</td>\n",
       "    </tr>\n",
       "  </tbody>\n",
       "</table>\n",
       "</div>"
      ],
      "text/plain": [
       "                 estado       municipio           dif\n",
       "5358          São Paulo       São Paulo  401771313701\n",
       "803    Distrito Federal        Brasília   91563949737\n",
       "4324     Rio de Janeiro  Rio de Janeiro   70355688363\n",
       "1626       Minas Gerais  Belo Horizonte   33569292937\n",
       "2508             Paraná        Curitiba   31644476639\n",
       "4081  Rio Grande do Sul    Porto Alegre   23169762772\n",
       "4886          São Paulo        Campinas   15847346187\n",
       "4841          São Paulo         Barueri   12975719844\n",
       "5167          São Paulo          Osasco   11636764619\n",
       "879      Espírito Santo         Vitória    7563341176"
      ]
     },
     "execution_count": 10,
     "metadata": {},
     "output_type": "execute_result"
    }
   ],
   "source": [
    "agrp_por_cidade.sort_values(by='dif', ascending=False).head(10)"
   ]
  },
  {
   "cell_type": "markdown",
   "metadata": {},
   "source": [
    "#### Vamos olhar agora a cidade de Santo André ao longo dos anos"
   ]
  },
  {
   "cell_type": "code",
   "execution_count": 11,
   "metadata": {
    "collapsed": false
   },
   "outputs": [
    {
     "data": {
      "text/plain": [
       "<matplotlib.axes._subplots.AxesSubplot at 0x173e8728b70>"
      ]
     },
     "execution_count": 11,
     "metadata": {},
     "output_type": "execute_result"
    },
    {
     "data": {
      "image/png": "[encoded data removed]",
      "text/plain": [
       "<matplotlib.figure.Figure at 0x173e8745080>"
      ]
     },
     "metadata": {},
     "output_type": "display_data"
    }
   ],
   "source": [
    "prev.ix[(prev['estado']=='São Paulo') & (prev['municipio']=='Santo André'), ['dif']].plot(x=prev['ano'].unique(), \\\n",
    "                                                      title='Evolução do Déficit da previdência na cidade de Santo André',\\\n",
    "                                                     figsize=[9,6])"
   ]
  },
  {
   "cell_type": "markdown",
   "metadata": {},
   "source": [
    "#### Vamos olhar agora a cidade de São Paulo ao longo dos anos"
   ]
  },
  {
   "cell_type": "code",
   "execution_count": 12,
   "metadata": {
    "collapsed": false,
    "scrolled": true
   },
   "outputs": [
    {
     "data": {
      "text/plain": [
       "<matplotlib.axes._subplots.AxesSubplot at 0x173e8530128>"
      ]
     },
     "execution_count": 12,
     "metadata": {},
     "output_type": "execute_result"
    },
    {
     "data": {
      "image/png": "[encoded data removed]",
      "text/plain": [
       "<matplotlib.figure.Figure at 0x173e8538048>"
      ]
     },
     "metadata": {},
     "output_type": "display_data"
    }
   ],
   "source": [
    "prev.ix[(prev['estado']=='São Paulo') & (prev['municipio']=='São Paulo'), ['dif']].plot(x=prev['ano'].unique(), \\\n",
    "                                                      title='Evolução do Superávit da previdência na cidade de São Paulo',\\\n",
    "                                                     figsize=[9,6], )"
   ]
  },
  {
   "cell_type": "markdown",
   "metadata": {},
   "source": [
    "#### Agora vamos olhar as cidades com maior superávit no último ano"
   ]
  },
  {
   "cell_type": "code",
   "execution_count": 13,
   "metadata": {
    "collapsed": false
   },
   "outputs": [
    {
     "data": {
      "text/html": [
       "<div>\n",
       "<table border=\"1\" class=\"dataframe\">\n",
       "  <thead>\n",
       "    <tr style=\"text-align: right;\">\n",
       "      <th></th>\n",
       "      <th>municipio</th>\n",
       "      <th>estado</th>\n",
       "      <th>ano</th>\n",
       "      <th>dif</th>\n",
       "    </tr>\n",
       "  </thead>\n",
       "  <tbody>\n",
       "    <tr>\n",
       "      <th>92949</th>\n",
       "      <td>São Paulo</td>\n",
       "      <td>São Paulo</td>\n",
       "      <td>2016</td>\n",
       "      <td>36972311813</td>\n",
       "    </tr>\n",
       "    <tr>\n",
       "      <th>94689</th>\n",
       "      <td>Brasília</td>\n",
       "      <td>Distrito Federal</td>\n",
       "      <td>2016</td>\n",
       "      <td>9374654597</td>\n",
       "    </tr>\n",
       "    <tr>\n",
       "      <th>92362</th>\n",
       "      <td>Rio de Janeiro</td>\n",
       "      <td>Rio de Janeiro</td>\n",
       "      <td>2016</td>\n",
       "      <td>2663447166</td>\n",
       "    </tr>\n",
       "    <tr>\n",
       "      <th>93125</th>\n",
       "      <td>Curitiba</td>\n",
       "      <td>Paraná</td>\n",
       "      <td>2016</td>\n",
       "      <td>1682746636</td>\n",
       "    </tr>\n",
       "    <tr>\n",
       "      <th>91429</th>\n",
       "      <td>Belo Horizonte</td>\n",
       "      <td>Minas Gerais</td>\n",
       "      <td>2016</td>\n",
       "      <td>1409924236</td>\n",
       "    </tr>\n",
       "    <tr>\n",
       "      <th>94051</th>\n",
       "      <td>Porto Alegre</td>\n",
       "      <td>Rio Grande do Sul</td>\n",
       "      <td>2016</td>\n",
       "      <td>1238480569</td>\n",
       "    </tr>\n",
       "    <tr>\n",
       "      <th>92774</th>\n",
       "      <td>Osasco</td>\n",
       "      <td>São Paulo</td>\n",
       "      <td>2016</td>\n",
       "      <td>1063343049</td>\n",
       "    </tr>\n",
       "    <tr>\n",
       "      <th>92495</th>\n",
       "      <td>Campinas</td>\n",
       "      <td>São Paulo</td>\n",
       "      <td>2016</td>\n",
       "      <td>879901305</td>\n",
       "    </tr>\n",
       "    <tr>\n",
       "      <th>92451</th>\n",
       "      <td>Barueri</td>\n",
       "      <td>São Paulo</td>\n",
       "      <td>2016</td>\n",
       "      <td>744044150</td>\n",
       "    </tr>\n",
       "    <tr>\n",
       "      <th>93837</th>\n",
       "      <td>Colorado</td>\n",
       "      <td>Rio Grande do Sul</td>\n",
       "      <td>2016</td>\n",
       "      <td>446407246</td>\n",
       "    </tr>\n",
       "  </tbody>\n",
       "</table>\n",
       "</div>"
      ],
      "text/plain": [
       "            municipio             estado   ano          dif\n",
       "92949       São Paulo          São Paulo  2016  36972311813\n",
       "94689        Brasília   Distrito Federal  2016   9374654597\n",
       "92362  Rio de Janeiro     Rio de Janeiro  2016   2663447166\n",
       "93125        Curitiba             Paraná  2016   1682746636\n",
       "91429  Belo Horizonte       Minas Gerais  2016   1409924236\n",
       "94051    Porto Alegre  Rio Grande do Sul  2016   1238480569\n",
       "92774          Osasco          São Paulo  2016   1063343049\n",
       "92495        Campinas          São Paulo  2016    879901305\n",
       "92451         Barueri          São Paulo  2016    744044150\n",
       "93837        Colorado  Rio Grande do Sul  2016    446407246"
      ]
     },
     "execution_count": 13,
     "metadata": {},
     "output_type": "execute_result"
    }
   ],
   "source": [
    "prev.ix[(prev['ano']==2016)].sort_values(by='dif', ascending=False).head(10)"
   ]
  },
  {
   "cell_type": "markdown",
   "metadata": {},
   "source": [
    "#### Cidades com maior déficit no último ano"
   ]
  },
  {
   "cell_type": "code",
   "execution_count": 14,
   "metadata": {
    "collapsed": false
   },
   "outputs": [
    {
     "data": {
      "text/html": [
       "<div>\n",
       "<table border=\"1\" class=\"dataframe\">\n",
       "  <thead>\n",
       "    <tr style=\"text-align: right;\">\n",
       "      <th></th>\n",
       "      <th>municipio</th>\n",
       "      <th>estado</th>\n",
       "      <th>ano</th>\n",
       "      <th>dif</th>\n",
       "    </tr>\n",
       "  </thead>\n",
       "  <tbody>\n",
       "    <tr>\n",
       "      <th>91282</th>\n",
       "      <td>Salvador</td>\n",
       "      <td>Bahia</td>\n",
       "      <td>2016</td>\n",
       "      <td>-2302081138</td>\n",
       "    </tr>\n",
       "    <tr>\n",
       "      <th>92921</th>\n",
       "      <td>Santo André</td>\n",
       "      <td>São Paulo</td>\n",
       "      <td>2016</td>\n",
       "      <td>-2042015956</td>\n",
       "    </tr>\n",
       "    <tr>\n",
       "      <th>92931</th>\n",
       "      <td>São Bernardo do Campo</td>\n",
       "      <td>São Paulo</td>\n",
       "      <td>2016</td>\n",
       "      <td>-1759599331</td>\n",
       "    </tr>\n",
       "    <tr>\n",
       "      <th>92319</th>\n",
       "      <td>Duque de Caxias</td>\n",
       "      <td>Rio de Janeiro</td>\n",
       "      <td>2016</td>\n",
       "      <td>-1675379645</td>\n",
       "    </tr>\n",
       "    <tr>\n",
       "      <th>92929</th>\n",
       "      <td>Santos</td>\n",
       "      <td>São Paulo</td>\n",
       "      <td>2016</td>\n",
       "      <td>-1567305088</td>\n",
       "    </tr>\n",
       "    <tr>\n",
       "      <th>92367</th>\n",
       "      <td>São Gonçalo</td>\n",
       "      <td>Rio de Janeiro</td>\n",
       "      <td>2016</td>\n",
       "      <td>-1544992807</td>\n",
       "    </tr>\n",
       "    <tr>\n",
       "      <th>91783</th>\n",
       "      <td>Juiz de Fora</td>\n",
       "      <td>Minas Gerais</td>\n",
       "      <td>2016</td>\n",
       "      <td>-1394304268</td>\n",
       "    </tr>\n",
       "    <tr>\n",
       "      <th>90816</th>\n",
       "      <td>Maceió</td>\n",
       "      <td>Alagoas</td>\n",
       "      <td>2016</td>\n",
       "      <td>-1268270668</td>\n",
       "    </tr>\n",
       "    <tr>\n",
       "      <th>92342</th>\n",
       "      <td>Niterói</td>\n",
       "      <td>Rio de Janeiro</td>\n",
       "      <td>2016</td>\n",
       "      <td>-1192278426</td>\n",
       "    </tr>\n",
       "    <tr>\n",
       "      <th>92599</th>\n",
       "      <td>Guarulhos</td>\n",
       "      <td>São Paulo</td>\n",
       "      <td>2016</td>\n",
       "      <td>-1121641090</td>\n",
       "    </tr>\n",
       "  </tbody>\n",
       "</table>\n",
       "</div>"
      ],
      "text/plain": [
       "                   municipio          estado   ano         dif\n",
       "91282               Salvador           Bahia  2016 -2302081138\n",
       "92921            Santo André       São Paulo  2016 -2042015956\n",
       "92931  São Bernardo do Campo       São Paulo  2016 -1759599331\n",
       "92319        Duque de Caxias  Rio de Janeiro  2016 -1675379645\n",
       "92929                 Santos       São Paulo  2016 -1567305088\n",
       "92367            São Gonçalo  Rio de Janeiro  2016 -1544992807\n",
       "91783           Juiz de Fora    Minas Gerais  2016 -1394304268\n",
       "90816                 Maceió         Alagoas  2016 -1268270668\n",
       "92342                Niterói  Rio de Janeiro  2016 -1192278426\n",
       "92599              Guarulhos       São Paulo  2016 -1121641090"
      ]
     },
     "execution_count": 14,
     "metadata": {},
     "output_type": "execute_result"
    }
   ],
   "source": [
    "prev.ix[(prev['ano']==2016)].sort_values(by='dif', ascending=True).head(10)"
   ]
  },
  {
   "cell_type": "markdown",
   "metadata": {},
   "source": [
    "### A análise acima é boa mas nos viesa pois as maiores cidades sempre aparecerão em primeiro. Vamos agora analisar sob o ponto de vista percentual. Vamos dividir arrecadação pela emissão"
   ]
  },
  {
   "cell_type": "code",
   "execution_count": 49,
   "metadata": {
    "collapsed": true
   },
   "outputs": [],
   "source": [
    "prev = pd.read_csv('./processed/prev.csv', encoding='latin1', sep=',')\n",
    "prev.drop('Unnamed: 0', axis=1, inplace=True)"
   ]
  },
  {
   "cell_type": "markdown",
   "metadata": {},
   "source": [
    "Como tem algumas cidades com arrecadação ou emissão ==0, vamos filtrar esses resultados"
   ]
  },
  {
   "cell_type": "code",
   "execution_count": 45,
   "metadata": {
    "collapsed": false
   },
   "outputs": [],
   "source": [
    "prev = prev.ix[(prev['vl_emissao'] != 0) & (prev['vl_arrecadado']!=0)].reset_index(drop=True)"
   ]
  },
  {
   "cell_type": "code",
   "execution_count": 50,
   "metadata": {
    "collapsed": true
   },
   "outputs": [],
   "source": [
    "agrp_por_cidade = pd.DataFrame(prev.groupby(by=['estado','municipio'])['vl_arrecadado', 'vl_emissao'].sum()).reset_index()"
   ]
  },
  {
   "cell_type": "code",
   "execution_count": 51,
   "metadata": {
    "collapsed": false
   },
   "outputs": [
    {
     "data": {
      "text/html": [
       "<div>\n",
       "<table border=\"1\" class=\"dataframe\">\n",
       "  <thead>\n",
       "    <tr style=\"text-align: right;\">\n",
       "      <th></th>\n",
       "      <th>estado</th>\n",
       "      <th>municipio</th>\n",
       "      <th>vl_arrecadado</th>\n",
       "      <th>vl_emissao</th>\n",
       "    </tr>\n",
       "  </thead>\n",
       "  <tbody>\n",
       "    <tr>\n",
       "      <th>4401</th>\n",
       "      <td>Roraima</td>\n",
       "      <td>Alto Alegre</td>\n",
       "      <td>1429</td>\n",
       "      <td>35825927</td>\n",
       "    </tr>\n",
       "  </tbody>\n",
       "</table>\n",
       "</div>"
      ],
      "text/plain": [
       "       estado    municipio  vl_arrecadado  vl_emissao\n",
       "4401  Roraima  Alto Alegre           1429    35825927"
      ]
     },
     "execution_count": 51,
     "metadata": {},
     "output_type": "execute_result"
    }
   ],
   "source": [
    "agrp_por_cidade.ix[(agrp_por_cidade['estado']=='Roraima') & (agrp_por_cidade['municipio']=='Alto Alegre')]"
   ]
  },
  {
   "cell_type": "code",
   "execution_count": 52,
   "metadata": {
    "collapsed": true
   },
   "outputs": [],
   "source": [
    "agrp_por_cidade['indice'] = agrp_por_cidade['vl_arrecadado'] / agrp_por_cidade['vl_emissao']"
   ]
  },
  {
   "cell_type": "code",
   "execution_count": 53,
   "metadata": {
    "collapsed": true
   },
   "outputs": [],
   "source": [
    "agrp_por_cidade.drop(['vl_emissao', 'vl_arrecadado'], inplace=True, axis=1)"
   ]
  },
  {
   "cell_type": "markdown",
   "metadata": {},
   "source": [
    "#### As 10 cidades com o menor índice de arrecadação de INSS acumulado nos últimos 16 anos"
   ]
  },
  {
   "cell_type": "code",
   "execution_count": 54,
   "metadata": {
    "collapsed": false,
    "scrolled": true
   },
   "outputs": [
    {
     "data": {
      "text/html": [
       "<div>\n",
       "<table border=\"1\" class=\"dataframe\">\n",
       "  <thead>\n",
       "    <tr style=\"text-align: right;\">\n",
       "      <th></th>\n",
       "      <th>estado</th>\n",
       "      <th>municipio</th>\n",
       "      <th>indice</th>\n",
       "    </tr>\n",
       "  </thead>\n",
       "  <tbody>\n",
       "    <tr>\n",
       "      <th>1321</th>\n",
       "      <td>Maranhão</td>\n",
       "      <td>São Pedro da Água Branca</td>\n",
       "      <td>9.746887e-07</td>\n",
       "    </tr>\n",
       "    <tr>\n",
       "      <th>334</th>\n",
       "      <td>Bahia</td>\n",
       "      <td>Fátima</td>\n",
       "      <td>5.547903e-06</td>\n",
       "    </tr>\n",
       "    <tr>\n",
       "      <th>40</th>\n",
       "      <td>Alagoas</td>\n",
       "      <td>Chã Preta</td>\n",
       "      <td>8.938234e-06</td>\n",
       "    </tr>\n",
       "    <tr>\n",
       "      <th>1191</th>\n",
       "      <td>Maranhão</td>\n",
       "      <td>Davinópolis</td>\n",
       "      <td>3.729206e-05</td>\n",
       "    </tr>\n",
       "    <tr>\n",
       "      <th>4401</th>\n",
       "      <td>Roraima</td>\n",
       "      <td>Alto Alegre</td>\n",
       "      <td>3.988731e-05</td>\n",
       "    </tr>\n",
       "    <tr>\n",
       "      <th>3659</th>\n",
       "      <td>Rio Grande do Norte</td>\n",
       "      <td>Lagoa Nova</td>\n",
       "      <td>4.105610e-05</td>\n",
       "    </tr>\n",
       "    <tr>\n",
       "      <th>3739</th>\n",
       "      <td>Rio Grande do Norte</td>\n",
       "      <td>São Tomé</td>\n",
       "      <td>7.034662e-05</td>\n",
       "    </tr>\n",
       "    <tr>\n",
       "      <th>3439</th>\n",
       "      <td>Piauí</td>\n",
       "      <td>Demerval Lobão</td>\n",
       "      <td>8.722714e-05</td>\n",
       "    </tr>\n",
       "    <tr>\n",
       "      <th>1617</th>\n",
       "      <td>Minas Gerais</td>\n",
       "      <td>Bandeira</td>\n",
       "      <td>9.201252e-05</td>\n",
       "    </tr>\n",
       "    <tr>\n",
       "      <th>351</th>\n",
       "      <td>Bahia</td>\n",
       "      <td>Ibipitanga</td>\n",
       "      <td>1.392810e-04</td>\n",
       "    </tr>\n",
       "  </tbody>\n",
       "</table>\n",
       "</div>"
      ],
      "text/plain": [
       "                   estado                 municipio        indice\n",
       "1321             Maranhão  São Pedro da Água Branca  9.746887e-07\n",
       "334                 Bahia                    Fátima  5.547903e-06\n",
       "40                Alagoas                 Chã Preta  8.938234e-06\n",
       "1191             Maranhão               Davinópolis  3.729206e-05\n",
       "4401              Roraima               Alto Alegre  3.988731e-05\n",
       "3659  Rio Grande do Norte                Lagoa Nova  4.105610e-05\n",
       "3739  Rio Grande do Norte                  São Tomé  7.034662e-05\n",
       "3439                Piauí            Demerval Lobão  8.722714e-05\n",
       "1617         Minas Gerais                  Bandeira  9.201252e-05\n",
       "351                 Bahia                Ibipitanga  1.392810e-04"
      ]
     },
     "execution_count": 54,
     "metadata": {},
     "output_type": "execute_result"
    }
   ],
   "source": [
    "agrp_por_cidade.ix[agrp_por_cidade['indice']!= 0].sort_values(by='indice', ascending=True).head(10)"
   ]
  },
  {
   "cell_type": "markdown",
   "metadata": {},
   "source": [
    "#### As 10 cidades com o maior índice de arrecadação de INSS acumulado nos últimos 16 anos"
   ]
  },
  {
   "cell_type": "code",
   "execution_count": 55,
   "metadata": {
    "collapsed": false
   },
   "outputs": [
    {
     "data": {
      "text/html": [
       "<div>\n",
       "<table border=\"1\" class=\"dataframe\">\n",
       "  <thead>\n",
       "    <tr style=\"text-align: right;\">\n",
       "      <th></th>\n",
       "      <th>estado</th>\n",
       "      <th>municipio</th>\n",
       "      <th>indice</th>\n",
       "    </tr>\n",
       "  </thead>\n",
       "  <tbody>\n",
       "    <tr>\n",
       "      <th>3868</th>\n",
       "      <td>Rio Grande do Sul</td>\n",
       "      <td>Colorado</td>\n",
       "      <td>17.191556</td>\n",
       "    </tr>\n",
       "    <tr>\n",
       "      <th>4891</th>\n",
       "      <td>São Paulo</td>\n",
       "      <td>Canas</td>\n",
       "      <td>6.589664</td>\n",
       "    </tr>\n",
       "    <tr>\n",
       "      <th>4841</th>\n",
       "      <td>São Paulo</td>\n",
       "      <td>Barueri</td>\n",
       "      <td>3.425618</td>\n",
       "    </tr>\n",
       "    <tr>\n",
       "      <th>803</th>\n",
       "      <td>Distrito Federal</td>\n",
       "      <td>Brasília</td>\n",
       "      <td>3.307331</td>\n",
       "    </tr>\n",
       "    <tr>\n",
       "      <th>3242</th>\n",
       "      <td>Pernambuco</td>\n",
       "      <td>Fernando de Noronha</td>\n",
       "      <td>3.140283</td>\n",
       "    </tr>\n",
       "    <tr>\n",
       "      <th>1366</th>\n",
       "      <td>Mato Grosso</td>\n",
       "      <td>Campos de Júlio</td>\n",
       "      <td>2.675285</td>\n",
       "    </tr>\n",
       "    <tr>\n",
       "      <th>1463</th>\n",
       "      <td>Mato Grosso</td>\n",
       "      <td>Sapezal</td>\n",
       "      <td>2.656035</td>\n",
       "    </tr>\n",
       "    <tr>\n",
       "      <th>4862</th>\n",
       "      <td>São Paulo</td>\n",
       "      <td>Borá</td>\n",
       "      <td>2.609277</td>\n",
       "    </tr>\n",
       "    <tr>\n",
       "      <th>1422</th>\n",
       "      <td>Mato Grosso</td>\n",
       "      <td>Nova Mutum</td>\n",
       "      <td>2.588742</td>\n",
       "    </tr>\n",
       "    <tr>\n",
       "      <th>1019</th>\n",
       "      <td>Goiás</td>\n",
       "      <td>Maurilândia</td>\n",
       "      <td>2.557286</td>\n",
       "    </tr>\n",
       "  </tbody>\n",
       "</table>\n",
       "</div>"
      ],
      "text/plain": [
       "                 estado            municipio     indice\n",
       "3868  Rio Grande do Sul             Colorado  17.191556\n",
       "4891          São Paulo                Canas   6.589664\n",
       "4841          São Paulo              Barueri   3.425618\n",
       "803    Distrito Federal             Brasília   3.307331\n",
       "3242         Pernambuco  Fernando de Noronha   3.140283\n",
       "1366        Mato Grosso      Campos de Júlio   2.675285\n",
       "1463        Mato Grosso              Sapezal   2.656035\n",
       "4862          São Paulo                 Borá   2.609277\n",
       "1422        Mato Grosso           Nova Mutum   2.588742\n",
       "1019              Goiás          Maurilândia   2.557286"
      ]
     },
     "execution_count": 55,
     "metadata": {},
     "output_type": "execute_result"
    }
   ],
   "source": [
    "agrp_por_cidade.ix[agrp_por_cidade['indice']!= 0].sort_values(by='indice', ascending=False).head(10)"
   ]
  },
  {
   "cell_type": "code",
   "execution_count": 56,
   "metadata": {
    "collapsed": false
   },
   "outputs": [],
   "source": [
    "prev = pd.read_csv('./processed/prev.csv', encoding='latin1', sep=',')\n",
    "prev.drop('Unnamed: 0', axis=1, inplace=True)"
   ]
  },
  {
   "cell_type": "code",
   "execution_count": 57,
   "metadata": {
    "collapsed": false
   },
   "outputs": [
    {
     "data": {
      "text/plain": [
       "vl_emissao       57454244\n",
       "vl_arrecadado          56\n",
       "dtype: int64"
      ]
     },
     "execution_count": 57,
     "metadata": {},
     "output_type": "execute_result"
    }
   ],
   "source": [
    "prev.ix[(prev['estado']=='Maranhão') & (prev['municipio']=='São Pedro da Água Branca'),[ 'vl_emissao', 'vl_arrecadado']].sum()"
   ]
  },
  {
   "cell_type": "code",
   "execution_count": 58,
   "metadata": {
    "collapsed": false
   },
   "outputs": [
    {
     "data": {
      "text/plain": [
       "vl_emissao        107919482\n",
       "vl_arrecadado    1855303767\n",
       "dtype: int64"
      ]
     },
     "execution_count": 58,
     "metadata": {},
     "output_type": "execute_result"
    }
   ],
   "source": [
    "prev.ix[(prev['estado']=='Rio Grande do Sul') & (prev['municipio']=='Colorado'),[ 'vl_emissao', 'vl_arrecadado']].sum()"
   ]
  }
 ],
 "metadata": {
  "anaconda-cloud": {},
  "kernelspec": {
   "display_name": "Python [conda root]",
   "language": "python",
   "name": "conda-root-py"
  },
  "language_info": {
   "codemirror_mode": {
    "name": "ipython",
    "version": 3
   },
   "file_extension": ".py",
   "mimetype": "text/x-python",
   "name": "python",
   "nbconvert_exporter": "python",
   "pygments_lexer": "ipython3",
   "version": "3.5.2"
  }
 },
 "nbformat": 4,
 "nbformat_minor": 1
}
