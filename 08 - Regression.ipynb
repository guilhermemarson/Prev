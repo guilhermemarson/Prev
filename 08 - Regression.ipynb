{
 "cells": [
  {
   "cell_type": "code",
   "execution_count": 23,
   "metadata": {
    "collapsed": true
   },
   "outputs": [],
   "source": [
    "%matplotlib inline\n",
    "import pandas as pd\n",
    "from pandas import set_option\n",
    "#Limit dataframe exibition to 5 rows\n",
    "set_option(\"display.max_rows\", 10)\n",
    "import scipy as sp\n",
    "import matplotlib.pyplot as plt\n",
    "import seaborn as sns\n",
    "import numpy as np\n",
    "import gc\n",
    "from sklearn import datasets, linear_model"
   ]
  },
  {
   "cell_type": "code",
   "execution_count": 24,
   "metadata": {
    "collapsed": true
   },
   "outputs": [],
   "source": [
    "df = pd.read_csv('./processed/prev_com_cd_ibge.csv', encoding='latin1')\n",
    "df.drop('Unnamed: 0', axis=1, inplace=True)"
   ]
  },
  {
   "cell_type": "code",
   "execution_count": 25,
   "metadata": {
    "collapsed": true
   },
   "outputs": [],
   "source": [
    "ibge = df['cd_ibge'].unique()"
   ]
  },
  {
   "cell_type": "code",
   "execution_count": 26,
   "metadata": {
    "collapsed": true
   },
   "outputs": [],
   "source": [
    "df2 = df"
   ]
  },
  {
   "cell_type": "code",
   "execution_count": 27,
   "metadata": {
    "collapsed": true
   },
   "outputs": [],
   "source": [
    "municipios = pd.DataFrame(df.groupby(by=['cd_ibge','estado','municipio']).first()).reset_index()\n",
    "\n",
    "municipios.drop(['ano','vl_emissao','vl_arrecadado'], axis=1, inplace=True)"
   ]
  },
  {
   "cell_type": "code",
   "execution_count": 28,
   "metadata": {
    "collapsed": true
   },
   "outputs": [],
   "source": [
    "df2['dif'] = df2['vl_arrecadado'] - df2['vl_emissao']"
   ]
  },
  {
   "cell_type": "markdown",
   "metadata": {},
   "source": [
    "Vamos predizer as emissões utilizando regressão linear"
   ]
  },
  {
   "cell_type": "code",
   "execution_count": 31,
   "metadata": {
    "collapsed": false
   },
   "outputs": [],
   "source": [
    "predictions_dif = {}\n",
    "for codigo in ibge:\n",
    "    regr = linear_model.LinearRegression(n_jobs=-1)\n",
    "    X = df2.loc[df['cd_ibge']==codigo, ['ano']]\n",
    "    y = df2.loc[df['cd_ibge']==codigo, ['dif']]\n",
    "    regr.fit(X,y)    \n",
    "    predictions_dif[codigo] = regr.predict(2017)[0][0]"
   ]
  },
  {
   "cell_type": "code",
   "execution_count": 32,
   "metadata": {
    "collapsed": true
   },
   "outputs": [],
   "source": [
    "df_dif = pd.DataFrame(columns = ['cd_ibge','dif'])\n",
    "df_dif['cd_ibge'] = predictions_dif.keys()\n",
    "df_dif['dif'] = predictions_dif.values()"
   ]
  },
  {
   "cell_type": "code",
   "execution_count": 33,
   "metadata": {
    "collapsed": false
   },
   "outputs": [],
   "source": [
    "predicoes_dif = pd.merge(df_dif, municipios, how='inner', on='cd_ibge')"
   ]
  },
  {
   "cell_type": "code",
   "execution_count": 34,
   "metadata": {
    "collapsed": false
   },
   "outputs": [
    {
     "data": {
      "text/html": [
       "<div>\n",
       "<table border=\"1\" class=\"dataframe\">\n",
       "  <thead>\n",
       "    <tr style=\"text-align: right;\">\n",
       "      <th></th>\n",
       "      <th>cd_ibge</th>\n",
       "      <th>dif</th>\n",
       "      <th>estado</th>\n",
       "      <th>municipio</th>\n",
       "    </tr>\n",
       "  </thead>\n",
       "  <tbody>\n",
       "    <tr>\n",
       "      <th>3865</th>\n",
       "      <td>3550308</td>\n",
       "      <td>4.496491e+10</td>\n",
       "      <td>São Paulo</td>\n",
       "      <td>São Paulo</td>\n",
       "    </tr>\n",
       "    <tr>\n",
       "      <th>2626</th>\n",
       "      <td>5300108</td>\n",
       "      <td>1.093944e+10</td>\n",
       "      <td>Distrito Federal</td>\n",
       "      <td>Brasília</td>\n",
       "    </tr>\n",
       "    <tr>\n",
       "      <th>3866</th>\n",
       "      <td>3304557</td>\n",
       "      <td>9.408826e+09</td>\n",
       "      <td>Rio de Janeiro</td>\n",
       "      <td>Rio de Janeiro</td>\n",
       "    </tr>\n",
       "    <tr>\n",
       "      <th>2812</th>\n",
       "      <td>3106200</td>\n",
       "      <td>3.717744e+09</td>\n",
       "      <td>Minas Gerais</td>\n",
       "      <td>Belo Horizonte</td>\n",
       "    </tr>\n",
       "    <tr>\n",
       "      <th>3690</th>\n",
       "      <td>4106902</td>\n",
       "      <td>3.200126e+09</td>\n",
       "      <td>Paraná</td>\n",
       "      <td>Curitiba</td>\n",
       "    </tr>\n",
       "    <tr>\n",
       "      <th>1813</th>\n",
       "      <td>4314902</td>\n",
       "      <td>2.604160e+09</td>\n",
       "      <td>Rio Grande do Sul</td>\n",
       "      <td>Porto Alegre</td>\n",
       "    </tr>\n",
       "    <tr>\n",
       "      <th>990</th>\n",
       "      <td>3509502</td>\n",
       "      <td>1.703438e+09</td>\n",
       "      <td>São Paulo</td>\n",
       "      <td>Campinas</td>\n",
       "    </tr>\n",
       "    <tr>\n",
       "      <th>2167</th>\n",
       "      <td>3534401</td>\n",
       "      <td>1.262103e+09</td>\n",
       "      <td>São Paulo</td>\n",
       "      <td>Osasco</td>\n",
       "    </tr>\n",
       "    <tr>\n",
       "      <th>5415</th>\n",
       "      <td>3505708</td>\n",
       "      <td>1.190075e+09</td>\n",
       "      <td>São Paulo</td>\n",
       "      <td>Barueri</td>\n",
       "    </tr>\n",
       "    <tr>\n",
       "      <th>3508</th>\n",
       "      <td>3205309</td>\n",
       "      <td>7.256860e+08</td>\n",
       "      <td>Espírito Santo</td>\n",
       "      <td>Vitória</td>\n",
       "    </tr>\n",
       "  </tbody>\n",
       "</table>\n",
       "</div>"
      ],
      "text/plain": [
       "      cd_ibge           dif             estado       municipio\n",
       "3865  3550308  4.496491e+10          São Paulo       São Paulo\n",
       "2626  5300108  1.093944e+10   Distrito Federal        Brasília\n",
       "3866  3304557  9.408826e+09     Rio de Janeiro  Rio de Janeiro\n",
       "2812  3106200  3.717744e+09       Minas Gerais  Belo Horizonte\n",
       "3690  4106902  3.200126e+09             Paraná        Curitiba\n",
       "1813  4314902  2.604160e+09  Rio Grande do Sul    Porto Alegre\n",
       "990   3509502  1.703438e+09          São Paulo        Campinas\n",
       "2167  3534401  1.262103e+09          São Paulo          Osasco\n",
       "5415  3505708  1.190075e+09          São Paulo         Barueri\n",
       "3508  3205309  7.256860e+08     Espírito Santo         Vitória"
      ]
     },
     "execution_count": 34,
     "metadata": {},
     "output_type": "execute_result"
    }
   ],
   "source": [
    "predicoes_dif.sort_values(by='dif', ascending=False).head(10)"
   ]
  },
  {
   "cell_type": "code",
   "execution_count": 35,
   "metadata": {
    "collapsed": false
   },
   "outputs": [
    {
     "data": {
      "text/html": [
       "<div>\n",
       "<table border=\"1\" class=\"dataframe\">\n",
       "  <thead>\n",
       "    <tr style=\"text-align: right;\">\n",
       "      <th></th>\n",
       "      <th>cd_ibge</th>\n",
       "      <th>dif</th>\n",
       "      <th>estado</th>\n",
       "      <th>municipio</th>\n",
       "    </tr>\n",
       "  </thead>\n",
       "  <tbody>\n",
       "    <tr>\n",
       "      <th>2906</th>\n",
       "      <td>3547809</td>\n",
       "      <td>-1.680109e+09</td>\n",
       "      <td>São Paulo</td>\n",
       "      <td>Santo André</td>\n",
       "    </tr>\n",
       "    <tr>\n",
       "      <th>4995</th>\n",
       "      <td>3301702</td>\n",
       "      <td>-1.445198e+09</td>\n",
       "      <td>Rio de Janeiro</td>\n",
       "      <td>Duque de Caxias</td>\n",
       "    </tr>\n",
       "    <tr>\n",
       "      <th>3988</th>\n",
       "      <td>3304904</td>\n",
       "      <td>-1.430942e+09</td>\n",
       "      <td>Rio de Janeiro</td>\n",
       "      <td>São Gonçalo</td>\n",
       "    </tr>\n",
       "    <tr>\n",
       "      <th>3110</th>\n",
       "      <td>3548708</td>\n",
       "      <td>-1.308027e+09</td>\n",
       "      <td>São Paulo</td>\n",
       "      <td>São Bernardo do Campo</td>\n",
       "    </tr>\n",
       "    <tr>\n",
       "      <th>3164</th>\n",
       "      <td>3548500</td>\n",
       "      <td>-1.178660e+09</td>\n",
       "      <td>São Paulo</td>\n",
       "      <td>Santos</td>\n",
       "    </tr>\n",
       "    <tr>\n",
       "      <th>2341</th>\n",
       "      <td>3136702</td>\n",
       "      <td>-1.172485e+09</td>\n",
       "      <td>Minas Gerais</td>\n",
       "      <td>Juiz de Fora</td>\n",
       "    </tr>\n",
       "    <tr>\n",
       "      <th>3749</th>\n",
       "      <td>2927408</td>\n",
       "      <td>-1.112247e+09</td>\n",
       "      <td>Bahia</td>\n",
       "      <td>Salvador</td>\n",
       "    </tr>\n",
       "    <tr>\n",
       "      <th>287</th>\n",
       "      <td>2704302</td>\n",
       "      <td>-9.917287e+08</td>\n",
       "      <td>Alagoas</td>\n",
       "      <td>Maceió</td>\n",
       "    </tr>\n",
       "    <tr>\n",
       "      <th>3384</th>\n",
       "      <td>3303302</td>\n",
       "      <td>-9.640182e+08</td>\n",
       "      <td>Rio de Janeiro</td>\n",
       "      <td>Niterói</td>\n",
       "    </tr>\n",
       "    <tr>\n",
       "      <th>4470</th>\n",
       "      <td>3306305</td>\n",
       "      <td>-9.258704e+08</td>\n",
       "      <td>Rio de Janeiro</td>\n",
       "      <td>Volta Redonda</td>\n",
       "    </tr>\n",
       "  </tbody>\n",
       "</table>\n",
       "</div>"
      ],
      "text/plain": [
       "      cd_ibge           dif          estado              municipio\n",
       "2906  3547809 -1.680109e+09       São Paulo            Santo André\n",
       "4995  3301702 -1.445198e+09  Rio de Janeiro        Duque de Caxias\n",
       "3988  3304904 -1.430942e+09  Rio de Janeiro            São Gonçalo\n",
       "3110  3548708 -1.308027e+09       São Paulo  São Bernardo do Campo\n",
       "3164  3548500 -1.178660e+09       São Paulo                 Santos\n",
       "2341  3136702 -1.172485e+09    Minas Gerais           Juiz de Fora\n",
       "3749  2927408 -1.112247e+09           Bahia               Salvador\n",
       "287   2704302 -9.917287e+08         Alagoas                 Maceió\n",
       "3384  3303302 -9.640182e+08  Rio de Janeiro                Niterói\n",
       "4470  3306305 -9.258704e+08  Rio de Janeiro          Volta Redonda"
      ]
     },
     "execution_count": 35,
     "metadata": {},
     "output_type": "execute_result"
    }
   ],
   "source": [
    "predicoes_dif.sort_values(by='dif', ascending=True).head(10)"
   ]
  },
  {
   "cell_type": "code",
   "execution_count": 36,
   "metadata": {
    "collapsed": false
   },
   "outputs": [
    {
     "data": {
      "text/plain": [
       "-131912998237.25685"
      ]
     },
     "execution_count": 36,
     "metadata": {},
     "output_type": "execute_result"
    }
   ],
   "source": [
    "predicoes_dif['dif'].sum()"
   ]
  },
  {
   "cell_type": "code",
   "execution_count": 43,
   "metadata": {
    "collapsed": false
   },
   "outputs": [],
   "source": [
    "regioes = pd.read_csv('./src/regioes-br.csv', encoding='latin1', sep=';')"
   ]
  },
  {
   "cell_type": "code",
   "execution_count": 46,
   "metadata": {
    "collapsed": false
   },
   "outputs": [],
   "source": [
    "prd = pd.merge(predicoes_dif, regioes, how='inner', on='estado')"
   ]
  },
  {
   "cell_type": "code",
   "execution_count": 55,
   "metadata": {
    "collapsed": false
   },
   "outputs": [
    {
     "data": {
      "text/html": [
       "<div>\n",
       "<table border=\"1\" class=\"dataframe\">\n",
       "  <thead>\n",
       "    <tr style=\"text-align: right;\">\n",
       "      <th></th>\n",
       "      <th>regiao</th>\n",
       "      <th>dif</th>\n",
       "    </tr>\n",
       "  </thead>\n",
       "  <tbody>\n",
       "    <tr>\n",
       "      <th>0</th>\n",
       "      <td>CENTRO OESTE</td>\n",
       "      <td>3.280542e+09</td>\n",
       "    </tr>\n",
       "    <tr>\n",
       "      <th>2</th>\n",
       "      <td>NORTE</td>\n",
       "      <td>-9.474878e+09</td>\n",
       "    </tr>\n",
       "    <tr>\n",
       "      <th>3</th>\n",
       "      <td>SUDESTE</td>\n",
       "      <td>-2.671430e+10</td>\n",
       "    </tr>\n",
       "    <tr>\n",
       "      <th>4</th>\n",
       "      <td>SUL</td>\n",
       "      <td>-3.095914e+10</td>\n",
       "    </tr>\n",
       "    <tr>\n",
       "      <th>1</th>\n",
       "      <td>NORDESTE</td>\n",
       "      <td>-6.804522e+10</td>\n",
       "    </tr>\n",
       "  </tbody>\n",
       "</table>\n",
       "</div>"
      ],
      "text/plain": [
       "         regiao           dif\n",
       "0  CENTRO OESTE  3.280542e+09\n",
       "2         NORTE -9.474878e+09\n",
       "3       SUDESTE -2.671430e+10\n",
       "4           SUL -3.095914e+10\n",
       "1      NORDESTE -6.804522e+10"
      ]
     },
     "execution_count": 55,
     "metadata": {},
     "output_type": "execute_result"
    }
   ],
   "source": [
    "pd.DataFrame(prd.groupby(by='regiao')['dif'].sum()).reset_index().sort_values(by='dif', ascending=False)"
   ]
  },
  {
   "cell_type": "code",
   "execution_count": 37,
   "metadata": {
    "collapsed": true
   },
   "outputs": [],
   "source": [
    "predicoes_dif.to_csv('./processed/predicoes_2017.csv', encoding='latin1')"
   ]
  },
  {
   "cell_type": "code",
   "execution_count": 59,
   "metadata": {
    "collapsed": true
   },
   "outputs": [],
   "source": [
    "predictions_emissoes = {}\n",
    "for codigo in ibge:\n",
    "    regr = linear_model.LinearRegression(n_jobs=-1)\n",
    "    X = df.loc[df['cd_ibge']==codigo, ['ano']]\n",
    "    y = df.loc[df['cd_ibge']==codigo, ['vl_emissao']]\n",
    "    regr.fit(X,y)    \n",
    "    predictions_emissoes[codigo] = regr.predict(2017)[0][0]"
   ]
  },
  {
   "cell_type": "markdown",
   "metadata": {},
   "source": [
    "Agora vamos  predizer as arrecadações"
   ]
  },
  {
   "cell_type": "code",
   "execution_count": 60,
   "metadata": {
    "collapsed": true
   },
   "outputs": [],
   "source": [
    "predictions_arrecadado = {}\n",
    "for codigo in ibge:\n",
    "    regr = linear_model.LinearRegression(n_jobs=-1)\n",
    "    X = df.loc[df['cd_ibge']==codigo, ['ano']]\n",
    "    y = df.loc[df['cd_ibge']==codigo, ['vl_arrecadado']]\n",
    "    regr.fit(X,y)    \n",
    "    predictions_arrecadado[codigo] = regr.predict(2017)[0][0]"
   ]
  },
  {
   "cell_type": "markdown",
   "metadata": {},
   "source": [
    "Agora vamos montar dataframes para facilitar a manipulação dos dados"
   ]
  },
  {
   "cell_type": "code",
   "execution_count": 95,
   "metadata": {
    "collapsed": true
   },
   "outputs": [],
   "source": [
    "df_arrec = pd.DataFrame(columns = ['cd_ibge','vl_arrecadado'])\n",
    "df_arrec['cd_ibge'] = predictions_arrecadado.keys()\n",
    "df_arrec['vl_arrecadado'] = predictions_arrecadado.values()"
   ]
  },
  {
   "cell_type": "code",
   "execution_count": 96,
   "metadata": {
    "collapsed": true
   },
   "outputs": [],
   "source": [
    "df_emis = pd.DataFrame(columns = ['cd_ibge','vl_emissao'])\n",
    "df_emis['cd_ibge'] = predictions_emissoes.keys()\n",
    "df_emis['vl_emissao'] = predictions_emissoes.values()"
   ]
  },
  {
   "cell_type": "markdown",
   "metadata": {},
   "source": [
    "Juntando os 2 dataframes"
   ]
  },
  {
   "cell_type": "code",
   "execution_count": 97,
   "metadata": {
    "collapsed": true
   },
   "outputs": [],
   "source": [
    "predicoes = pd.merge(df_arrec, df_emis, how='inner', on='cd_ibge')"
   ]
  },
  {
   "cell_type": "markdown",
   "metadata": {},
   "source": [
    "Adicionando informações de estado e cidade"
   ]
  },
  {
   "cell_type": "code",
   "execution_count": 134,
   "metadata": {
    "collapsed": true,
    "scrolled": true
   },
   "outputs": [],
   "source": [
    "predicoes = pd.merge(predicoes, municipios, how='inner', on='cd_ibge')"
   ]
  },
  {
   "cell_type": "code",
   "execution_count": 137,
   "metadata": {
    "collapsed": true
   },
   "outputs": [],
   "source": [
    "predicoes['dif'] = predicoes['vl_arrecadado'] - predicoes['vl_emissao']"
   ]
  },
  {
   "cell_type": "code",
   "execution_count": 138,
   "metadata": {
    "collapsed": true
   },
   "outputs": [],
   "source": [
    "predicoes['indice'] = predicoes['vl_arrecadado'] / predicoes['vl_emissao']"
   ]
  },
  {
   "cell_type": "code",
   "execution_count": 58,
   "metadata": {
    "collapsed": false
   },
   "outputs": [
    {
     "ename": "NameError",
     "evalue": "name 'predicoes' is not defined",
     "output_type": "error",
     "traceback": [
      "\u001b[0;31m---------------------------------------------------------------------------\u001b[0m",
      "\u001b[0;31mNameError\u001b[0m                                 Traceback (most recent call last)",
      "\u001b[0;32m<ipython-input-58-2382171f7844>\u001b[0m in \u001b[0;36m<module>\u001b[0;34m()\u001b[0m\n\u001b[0;32m----> 1\u001b[0;31m \u001b[0mpredicoes\u001b[0m\u001b[1;33m\u001b[0m\u001b[0m\n\u001b[0m",
      "\u001b[0;31mNameError\u001b[0m: name 'predicoes' is not defined"
     ]
    }
   ],
   "source": [
    "predicoes"
   ]
  },
  {
   "cell_type": "markdown",
   "metadata": {},
   "source": []
  },
  {
   "cell_type": "code",
   "execution_count": 141,
   "metadata": {
    "collapsed": false
   },
   "outputs": [
    {
     "data": {
      "text/html": [
       "<div>\n",
       "<style>\n",
       "    .dataframe thead tr:only-child th {\n",
       "        text-align: right;\n",
       "    }\n",
       "\n",
       "    .dataframe thead th {\n",
       "        text-align: left;\n",
       "    }\n",
       "\n",
       "    .dataframe tbody tr th {\n",
       "        vertical-align: top;\n",
       "    }\n",
       "</style>\n",
       "<table border=\"1\" class=\"dataframe\">\n",
       "  <thead>\n",
       "    <tr style=\"text-align: right;\">\n",
       "      <th></th>\n",
       "      <th>municipio</th>\n",
       "      <th>estado</th>\n",
       "      <th>ano</th>\n",
       "      <th>vl_emissao</th>\n",
       "      <th>cd_ibge</th>\n",
       "      <th>vl_arrecadado</th>\n",
       "    </tr>\n",
       "  </thead>\n",
       "  <tbody>\n",
       "    <tr>\n",
       "      <th>3336</th>\n",
       "      <td>Bento de Abreu</td>\n",
       "      <td>São Paulo</td>\n",
       "      <td>2000</td>\n",
       "      <td>783918</td>\n",
       "      <td>3506201</td>\n",
       "      <td>413520</td>\n",
       "    </tr>\n",
       "    <tr>\n",
       "      <th>8906</th>\n",
       "      <td>Bento de Abreu</td>\n",
       "      <td>São Paulo</td>\n",
       "      <td>2001</td>\n",
       "      <td>883695</td>\n",
       "      <td>3506201</td>\n",
       "      <td>392017</td>\n",
       "    </tr>\n",
       "    <tr>\n",
       "      <th>...</th>\n",
       "      <td>...</td>\n",
       "      <td>...</td>\n",
       "      <td>...</td>\n",
       "      <td>...</td>\n",
       "      <td>...</td>\n",
       "      <td>...</td>\n",
       "    </tr>\n",
       "    <tr>\n",
       "      <th>86886</th>\n",
       "      <td>Bento de Abreu</td>\n",
       "      <td>São Paulo</td>\n",
       "      <td>2015</td>\n",
       "      <td>4733895</td>\n",
       "      <td>3506201</td>\n",
       "      <td>0</td>\n",
       "    </tr>\n",
       "    <tr>\n",
       "      <th>92456</th>\n",
       "      <td>Bento de Abreu</td>\n",
       "      <td>São Paulo</td>\n",
       "      <td>2016</td>\n",
       "      <td>5392249</td>\n",
       "      <td>3506201</td>\n",
       "      <td>0</td>\n",
       "    </tr>\n",
       "  </tbody>\n",
       "</table>\n",
       "<p>17 rows × 6 columns</p>\n",
       "</div>"
      ],
      "text/plain": [
       "            municipio     estado   ano  vl_emissao  cd_ibge  vl_arrecadado\n",
       "3336   Bento de Abreu  São Paulo  2000      783918  3506201         413520\n",
       "8906   Bento de Abreu  São Paulo  2001      883695  3506201         392017\n",
       "...               ...        ...   ...         ...      ...            ...\n",
       "86886  Bento de Abreu  São Paulo  2015     4733895  3506201              0\n",
       "92456  Bento de Abreu  São Paulo  2016     5392249  3506201              0\n",
       "\n",
       "[17 rows x 6 columns]"
      ]
     },
     "execution_count": 141,
     "metadata": {},
     "output_type": "execute_result"
    }
   ],
   "source": [
    "df.loc[df['cd_ibge']==3506201]"
   ]
  }
 ],
 "metadata": {
  "anaconda-cloud": {},
  "kernelspec": {
   "display_name": "Python [conda root]",
   "language": "python",
   "name": "conda-root-py"
  },
  "language_info": {
   "codemirror_mode": {
    "name": "ipython",
    "version": 3
   },
   "file_extension": ".py",
   "mimetype": "text/x-python",
   "name": "python",
   "nbconvert_exporter": "python",
   "pygments_lexer": "ipython3",
   "version": "3.5.2"
  }
 },
 "nbformat": 4,
 "nbformat_minor": 2
}
