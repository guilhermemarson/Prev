{
 "cells": [
  {
   "cell_type": "code",
   "execution_count": 139,
   "metadata": {
    "collapsed": true
   },
   "outputs": [],
   "source": [
    "%matplotlib inline\n",
    "import pandas as pd\n",
    "from pandas import set_option\n",
    "#Limit dataframe exibition to 5 rows\n",
    "set_option(\"display.max_rows\", 5)\n",
    "import scipy as sp\n",
    "import matplotlib.pyplot as plt\n",
    "import seaborn as sns\n",
    "import numpy as np\n",
    "import gc\n",
    "from sklearn import datasets, linear_model"
   ]
  },
  {
   "cell_type": "code",
   "execution_count": 2,
   "metadata": {
    "collapsed": true
   },
   "outputs": [],
   "source": [
    "df = pd.read_csv('./processed/prev_com_cd_ibge.csv', encoding='latin1')\n",
    "df.drop('Unnamed: 0', axis=1, inplace=True)"
   ]
  },
  {
   "cell_type": "code",
   "execution_count": 3,
   "metadata": {
    "collapsed": true
   },
   "outputs": [],
   "source": [
    "ibge = df['cd_ibge'].unique()"
   ]
  },
  {
   "cell_type": "code",
   "execution_count": 142,
   "metadata": {
    "collapsed": true
   },
   "outputs": [],
   "source": [
    "df2 = df"
   ]
  },
  {
   "cell_type": "code",
   "execution_count": 143,
   "metadata": {
    "collapsed": true
   },
   "outputs": [],
   "source": [
    "df2['dif'] = df2['vl_arrecadado'] - df2['vl_emissao']"
   ]
  },
  {
   "cell_type": "markdown",
   "metadata": {},
   "source": [
    "Vamos predizer as emissões utilizando regressão linear"
   ]
  },
  {
   "cell_type": "code",
   "execution_count": 144,
   "metadata": {
    "collapsed": true
   },
   "outputs": [],
   "source": [
    "predictions_dif = {}\n",
    "for codigo in ibge:\n",
    "    regr = linear_model.LinearRegression(n_jobs=-1)\n",
    "    X = df2.loc[df['cd_ibge']==codigo, ['ano']]\n",
    "    y = df2.loc[df['cd_ibge']==codigo, ['dif']]\n",
    "    regr.fit(X,y)    \n",
    "    predictions_dif[codigo] = regr.predict(2017)[0][0]"
   ]
  },
  {
   "cell_type": "code",
   "execution_count": 150,
   "metadata": {
    "collapsed": true
   },
   "outputs": [],
   "source": [
    "df_dif = pd.DataFrame(columns = ['cd_ibge','dif'])\n",
    "df_dif['cd_ibge'] = predictions_dif.keys()\n",
    "df_dif['dif'] = predictions_dif.values()"
   ]
  },
  {
   "cell_type": "code",
   "execution_count": 152,
   "metadata": {
    "collapsed": true
   },
   "outputs": [],
   "source": [
    "predicoes_dif = pd.merge(df_dif, municipios, how='inner', on='cd_ibge')"
   ]
  },
  {
   "cell_type": "code",
   "execution_count": 156,
   "metadata": {},
   "outputs": [
    {
     "data": {
      "text/html": [
       "<div>\n",
       "<style>\n",
       "    .dataframe thead tr:only-child th {\n",
       "        text-align: right;\n",
       "    }\n",
       "\n",
       "    .dataframe thead th {\n",
       "        text-align: left;\n",
       "    }\n",
       "\n",
       "    .dataframe tbody tr th {\n",
       "        vertical-align: top;\n",
       "    }\n",
       "</style>\n",
       "<table border=\"1\" class=\"dataframe\">\n",
       "  <thead>\n",
       "    <tr style=\"text-align: right;\">\n",
       "      <th></th>\n",
       "      <th>cd_ibge</th>\n",
       "      <th>dif</th>\n",
       "      <th>estado</th>\n",
       "      <th>municipio</th>\n",
       "    </tr>\n",
       "  </thead>\n",
       "  <tbody>\n",
       "    <tr>\n",
       "      <th>1585</th>\n",
       "      <td>3550308</td>\n",
       "      <td>4.496491e+10</td>\n",
       "      <td>São Paulo</td>\n",
       "      <td>São Paulo</td>\n",
       "    </tr>\n",
       "    <tr>\n",
       "      <th>4229</th>\n",
       "      <td>5300108</td>\n",
       "      <td>1.093944e+10</td>\n",
       "      <td>Distrito Federal</td>\n",
       "      <td>Brasília</td>\n",
       "    </tr>\n",
       "    <tr>\n",
       "      <th>4882</th>\n",
       "      <td>3304557</td>\n",
       "      <td>9.408826e+09</td>\n",
       "      <td>Rio de Janeiro</td>\n",
       "      <td>Rio de Janeiro</td>\n",
       "    </tr>\n",
       "    <tr>\n",
       "      <th>4329</th>\n",
       "      <td>3106200</td>\n",
       "      <td>3.717744e+09</td>\n",
       "      <td>Minas Gerais</td>\n",
       "      <td>Belo Horizonte</td>\n",
       "    </tr>\n",
       "    <tr>\n",
       "      <th>1494</th>\n",
       "      <td>4106902</td>\n",
       "      <td>3.200126e+09</td>\n",
       "      <td>Paraná</td>\n",
       "      <td>Curitiba</td>\n",
       "    </tr>\n",
       "  </tbody>\n",
       "</table>\n",
       "</div>"
      ],
      "text/plain": [
       "      cd_ibge           dif            estado       municipio\n",
       "1585  3550308  4.496491e+10         São Paulo       São Paulo\n",
       "4229  5300108  1.093944e+10  Distrito Federal        Brasília\n",
       "4882  3304557  9.408826e+09    Rio de Janeiro  Rio de Janeiro\n",
       "4329  3106200  3.717744e+09      Minas Gerais  Belo Horizonte\n",
       "1494  4106902  3.200126e+09            Paraná        Curitiba"
      ]
     },
     "execution_count": 156,
     "metadata": {},
     "output_type": "execute_result"
    }
   ],
   "source": [
    "predicoes_dif.sort_values(by='dif', ascending=False).head(5)"
   ]
  },
  {
   "cell_type": "code",
   "execution_count": 157,
   "metadata": {},
   "outputs": [
    {
     "data": {
      "text/html": [
       "<div>\n",
       "<style>\n",
       "    .dataframe thead tr:only-child th {\n",
       "        text-align: right;\n",
       "    }\n",
       "\n",
       "    .dataframe thead th {\n",
       "        text-align: left;\n",
       "    }\n",
       "\n",
       "    .dataframe tbody tr th {\n",
       "        vertical-align: top;\n",
       "    }\n",
       "</style>\n",
       "<table border=\"1\" class=\"dataframe\">\n",
       "  <thead>\n",
       "    <tr style=\"text-align: right;\">\n",
       "      <th></th>\n",
       "      <th>cd_ibge</th>\n",
       "      <th>dif</th>\n",
       "      <th>estado</th>\n",
       "      <th>municipio</th>\n",
       "    </tr>\n",
       "  </thead>\n",
       "  <tbody>\n",
       "    <tr>\n",
       "      <th>2600</th>\n",
       "      <td>3547809</td>\n",
       "      <td>-1.680109e+09</td>\n",
       "      <td>São Paulo</td>\n",
       "      <td>Santo André</td>\n",
       "    </tr>\n",
       "    <tr>\n",
       "      <th>4315</th>\n",
       "      <td>3301702</td>\n",
       "      <td>-1.445198e+09</td>\n",
       "      <td>Rio de Janeiro</td>\n",
       "      <td>Duque de Caxias</td>\n",
       "    </tr>\n",
       "    <tr>\n",
       "      <th>4941</th>\n",
       "      <td>3304904</td>\n",
       "      <td>-1.430942e+09</td>\n",
       "      <td>Rio de Janeiro</td>\n",
       "      <td>São Gonçalo</td>\n",
       "    </tr>\n",
       "    <tr>\n",
       "      <th>4491</th>\n",
       "      <td>3548708</td>\n",
       "      <td>-1.308027e+09</td>\n",
       "      <td>São Paulo</td>\n",
       "      <td>São Bernardo do Campo</td>\n",
       "    </tr>\n",
       "    <tr>\n",
       "      <th>1233</th>\n",
       "      <td>3548500</td>\n",
       "      <td>-1.178660e+09</td>\n",
       "      <td>São Paulo</td>\n",
       "      <td>Santos</td>\n",
       "    </tr>\n",
       "  </tbody>\n",
       "</table>\n",
       "</div>"
      ],
      "text/plain": [
       "      cd_ibge           dif          estado              municipio\n",
       "2600  3547809 -1.680109e+09       São Paulo            Santo André\n",
       "4315  3301702 -1.445198e+09  Rio de Janeiro        Duque de Caxias\n",
       "4941  3304904 -1.430942e+09  Rio de Janeiro            São Gonçalo\n",
       "4491  3548708 -1.308027e+09       São Paulo  São Bernardo do Campo\n",
       "1233  3548500 -1.178660e+09       São Paulo                 Santos"
      ]
     },
     "execution_count": 157,
     "metadata": {},
     "output_type": "execute_result"
    }
   ],
   "source": [
    "predicoes_dif.sort_values(by='dif', ascending=True).head(5)"
   ]
  },
  {
   "cell_type": "code",
   "execution_count": null,
   "metadata": {
    "collapsed": true
   },
   "outputs": [],
   "source": []
  },
  {
   "cell_type": "code",
   "execution_count": null,
   "metadata": {
    "collapsed": true
   },
   "outputs": [],
   "source": []
  },
  {
   "cell_type": "code",
   "execution_count": null,
   "metadata": {
    "collapsed": true
   },
   "outputs": [],
   "source": []
  },
  {
   "cell_type": "code",
   "execution_count": 59,
   "metadata": {},
   "outputs": [],
   "source": [
    "predictions_emissoes = {}\n",
    "for codigo in ibge:\n",
    "    regr = linear_model.LinearRegression(n_jobs=-1)\n",
    "    X = df.loc[df['cd_ibge']==codigo, ['ano']]\n",
    "    y = df.loc[df['cd_ibge']==codigo, ['vl_emissao']]\n",
    "    regr.fit(X,y)    \n",
    "    predictions_emissoes[codigo] = regr.predict(2017)[0][0]"
   ]
  },
  {
   "cell_type": "markdown",
   "metadata": {},
   "source": [
    "Agora vamos  predizer as arrecadações"
   ]
  },
  {
   "cell_type": "code",
   "execution_count": 64,
   "metadata": {},
   "outputs": [],
   "source": [
    "predictions_arrecadado = {}\n",
    "for codigo in ibge:\n",
    "    regr = linear_model.LinearRegression(n_jobs=-1)\n",
    "    X = df.loc[df['cd_ibge']==codigo, ['ano']]\n",
    "    y = df.loc[df['cd_ibge']==codigo, ['vl_arrecadado']]\n",
    "    regr.fit(X,y)    \n",
    "    predictions_arrecadado[codigo] = regr.predict(2017)[0][0]"
   ]
  },
  {
   "cell_type": "markdown",
   "metadata": {},
   "source": [
    "Agora vamos montar dataframes para facilitar a manipulação dos dados"
   ]
  },
  {
   "cell_type": "code",
   "execution_count": 95,
   "metadata": {},
   "outputs": [],
   "source": [
    "df_arrec = pd.DataFrame(columns = ['cd_ibge','vl_arrecadado'])\n",
    "df_arrec['cd_ibge'] = predictions_arrecadado.keys()\n",
    "df_arrec['vl_arrecadado'] = predictions_arrecadado.values()"
   ]
  },
  {
   "cell_type": "code",
   "execution_count": 96,
   "metadata": {},
   "outputs": [],
   "source": [
    "df_emis = pd.DataFrame(columns = ['cd_ibge','vl_emissao'])\n",
    "df_emis['cd_ibge'] = predictions_emissoes.keys()\n",
    "df_emis['vl_emissao'] = predictions_emissoes.values()"
   ]
  },
  {
   "cell_type": "markdown",
   "metadata": {},
   "source": [
    "Juntando os 2 dataframes"
   ]
  },
  {
   "cell_type": "code",
   "execution_count": 97,
   "metadata": {},
   "outputs": [],
   "source": [
    "predicoes = pd.merge(df_arrec, df_emis, how='inner', on='cd_ibge')"
   ]
  },
  {
   "cell_type": "markdown",
   "metadata": {},
   "source": [
    "Adicionando informações de estado e cidade"
   ]
  },
  {
   "cell_type": "code",
   "execution_count": 130,
   "metadata": {
    "scrolled": true
   },
   "outputs": [],
   "source": [
    "municipios = pd.DataFrame(df.groupby(by=['cd_ibge','estado','municipio']).first()).reset_index()"
   ]
  },
  {
   "cell_type": "code",
   "execution_count": 131,
   "metadata": {},
   "outputs": [],
   "source": [
    "municipios.drop(['ano','vl_emissao','vl_arrecadado'], axis=1, inplace=True)"
   ]
  },
  {
   "cell_type": "code",
   "execution_count": 134,
   "metadata": {
    "collapsed": true,
    "scrolled": true
   },
   "outputs": [],
   "source": [
    "predicoes = pd.merge(predicoes, municipios, how='inner', on='cd_ibge')"
   ]
  },
  {
   "cell_type": "code",
   "execution_count": 137,
   "metadata": {},
   "outputs": [],
   "source": [
    "predicoes['dif'] = predicoes['vl_arrecadado'] - predicoes['vl_emissao']"
   ]
  },
  {
   "cell_type": "code",
   "execution_count": 138,
   "metadata": {
    "collapsed": true
   },
   "outputs": [],
   "source": [
    "predicoes['indice'] = predicoes['vl_arrecadado'] / predicoes['vl_emissao']"
   ]
  },
  {
   "cell_type": "code",
   "execution_count": 140,
   "metadata": {},
   "outputs": [
    {
     "data": {
      "text/html": [
       "<div>\n",
       "<style>\n",
       "    .dataframe thead tr:only-child th {\n",
       "        text-align: right;\n",
       "    }\n",
       "\n",
       "    .dataframe thead th {\n",
       "        text-align: left;\n",
       "    }\n",
       "\n",
       "    .dataframe tbody tr th {\n",
       "        vertical-align: top;\n",
       "    }\n",
       "</style>\n",
       "<table border=\"1\" class=\"dataframe\">\n",
       "  <thead>\n",
       "    <tr style=\"text-align: right;\">\n",
       "      <th></th>\n",
       "      <th>cd_ibge</th>\n",
       "      <th>vl_arrecadado</th>\n",
       "      <th>vl_emissao</th>\n",
       "      <th>estado</th>\n",
       "      <th>municipio</th>\n",
       "      <th>dif</th>\n",
       "      <th>indice</th>\n",
       "    </tr>\n",
       "  </thead>\n",
       "  <tbody>\n",
       "    <tr>\n",
       "      <th>0</th>\n",
       "      <td>3506201</td>\n",
       "      <td>-8.483537e+03</td>\n",
       "      <td>5.518920e+06</td>\n",
       "      <td>São Paulo</td>\n",
       "      <td>Bento de Abreu</td>\n",
       "      <td>-5.527404e+06</td>\n",
       "      <td>-0.001537</td>\n",
       "    </tr>\n",
       "    <tr>\n",
       "      <th>1</th>\n",
       "      <td>4128807</td>\n",
       "      <td>-2.046312e+04</td>\n",
       "      <td>6.151097e+06</td>\n",
       "      <td>Paraná</td>\n",
       "      <td>Xambrê</td>\n",
       "      <td>-6.171560e+06</td>\n",
       "      <td>-0.003327</td>\n",
       "    </tr>\n",
       "    <tr>\n",
       "      <th>...</th>\n",
       "      <td>...</td>\n",
       "      <td>...</td>\n",
       "      <td>...</td>\n",
       "      <td>...</td>\n",
       "      <td>...</td>\n",
       "      <td>...</td>\n",
       "      <td>...</td>\n",
       "    </tr>\n",
       "    <tr>\n",
       "      <th>5568</th>\n",
       "      <td>3145703</td>\n",
       "      <td>-2.266971e+03</td>\n",
       "      <td>8.026619e+05</td>\n",
       "      <td>Minas Gerais</td>\n",
       "      <td>Oliveira Fortes</td>\n",
       "      <td>-8.049289e+05</td>\n",
       "      <td>-0.002824</td>\n",
       "    </tr>\n",
       "    <tr>\n",
       "      <th>5569</th>\n",
       "      <td>5210109</td>\n",
       "      <td>9.913561e+06</td>\n",
       "      <td>5.248251e+07</td>\n",
       "      <td>Goiás</td>\n",
       "      <td>Ipameri</td>\n",
       "      <td>-4.256895e+07</td>\n",
       "      <td>0.188893</td>\n",
       "    </tr>\n",
       "  </tbody>\n",
       "</table>\n",
       "<p>5570 rows × 7 columns</p>\n",
       "</div>"
      ],
      "text/plain": [
       "      cd_ibge  vl_arrecadado    vl_emissao        estado        municipio  \\\n",
       "0     3506201  -8.483537e+03  5.518920e+06     São Paulo   Bento de Abreu   \n",
       "1     4128807  -2.046312e+04  6.151097e+06        Paraná           Xambrê   \n",
       "...       ...            ...           ...           ...              ...   \n",
       "5568  3145703  -2.266971e+03  8.026619e+05  Minas Gerais  Oliveira Fortes   \n",
       "5569  5210109   9.913561e+06  5.248251e+07         Goiás          Ipameri   \n",
       "\n",
       "               dif    indice  \n",
       "0    -5.527404e+06 -0.001537  \n",
       "1    -6.171560e+06 -0.003327  \n",
       "...            ...       ...  \n",
       "5568 -8.049289e+05 -0.002824  \n",
       "5569 -4.256895e+07  0.188893  \n",
       "\n",
       "[5570 rows x 7 columns]"
      ]
     },
     "execution_count": 140,
     "metadata": {},
     "output_type": "execute_result"
    }
   ],
   "source": [
    "predicoes"
   ]
  },
  {
   "cell_type": "markdown",
   "metadata": {},
   "source": []
  },
  {
   "cell_type": "code",
   "execution_count": 141,
   "metadata": {},
   "outputs": [
    {
     "data": {
      "text/html": [
       "<div>\n",
       "<style>\n",
       "    .dataframe thead tr:only-child th {\n",
       "        text-align: right;\n",
       "    }\n",
       "\n",
       "    .dataframe thead th {\n",
       "        text-align: left;\n",
       "    }\n",
       "\n",
       "    .dataframe tbody tr th {\n",
       "        vertical-align: top;\n",
       "    }\n",
       "</style>\n",
       "<table border=\"1\" class=\"dataframe\">\n",
       "  <thead>\n",
       "    <tr style=\"text-align: right;\">\n",
       "      <th></th>\n",
       "      <th>municipio</th>\n",
       "      <th>estado</th>\n",
       "      <th>ano</th>\n",
       "      <th>vl_emissao</th>\n",
       "      <th>cd_ibge</th>\n",
       "      <th>vl_arrecadado</th>\n",
       "    </tr>\n",
       "  </thead>\n",
       "  <tbody>\n",
       "    <tr>\n",
       "      <th>3336</th>\n",
       "      <td>Bento de Abreu</td>\n",
       "      <td>São Paulo</td>\n",
       "      <td>2000</td>\n",
       "      <td>783918</td>\n",
       "      <td>3506201</td>\n",
       "      <td>413520</td>\n",
       "    </tr>\n",
       "    <tr>\n",
       "      <th>8906</th>\n",
       "      <td>Bento de Abreu</td>\n",
       "      <td>São Paulo</td>\n",
       "      <td>2001</td>\n",
       "      <td>883695</td>\n",
       "      <td>3506201</td>\n",
       "      <td>392017</td>\n",
       "    </tr>\n",
       "    <tr>\n",
       "      <th>...</th>\n",
       "      <td>...</td>\n",
       "      <td>...</td>\n",
       "      <td>...</td>\n",
       "      <td>...</td>\n",
       "      <td>...</td>\n",
       "      <td>...</td>\n",
       "    </tr>\n",
       "    <tr>\n",
       "      <th>86886</th>\n",
       "      <td>Bento de Abreu</td>\n",
       "      <td>São Paulo</td>\n",
       "      <td>2015</td>\n",
       "      <td>4733895</td>\n",
       "      <td>3506201</td>\n",
       "      <td>0</td>\n",
       "    </tr>\n",
       "    <tr>\n",
       "      <th>92456</th>\n",
       "      <td>Bento de Abreu</td>\n",
       "      <td>São Paulo</td>\n",
       "      <td>2016</td>\n",
       "      <td>5392249</td>\n",
       "      <td>3506201</td>\n",
       "      <td>0</td>\n",
       "    </tr>\n",
       "  </tbody>\n",
       "</table>\n",
       "<p>17 rows × 6 columns</p>\n",
       "</div>"
      ],
      "text/plain": [
       "            municipio     estado   ano  vl_emissao  cd_ibge  vl_arrecadado\n",
       "3336   Bento de Abreu  São Paulo  2000      783918  3506201         413520\n",
       "8906   Bento de Abreu  São Paulo  2001      883695  3506201         392017\n",
       "...               ...        ...   ...         ...      ...            ...\n",
       "86886  Bento de Abreu  São Paulo  2015     4733895  3506201              0\n",
       "92456  Bento de Abreu  São Paulo  2016     5392249  3506201              0\n",
       "\n",
       "[17 rows x 6 columns]"
      ]
     },
     "execution_count": 141,
     "metadata": {},
     "output_type": "execute_result"
    }
   ],
   "source": [
    "df.loc[df['cd_ibge']==3506201]"
   ]
  }
 ],
 "metadata": {
  "kernelspec": {
   "display_name": "Python 2",
   "language": "python",
   "name": "python2"
  },
  "language_info": {
   "codemirror_mode": {
    "name": "ipython",
    "version": 2
   },
   "file_extension": ".py",
   "mimetype": "text/x-python",
   "name": "python",
   "nbconvert_exporter": "python",
   "pygments_lexer": "ipython2",
   "version": "2.7.12"
  }
 },
 "nbformat": 4,
 "nbformat_minor": 2
}
