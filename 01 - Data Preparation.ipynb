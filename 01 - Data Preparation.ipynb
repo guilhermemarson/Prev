{
 "cells": [
  {
   "cell_type": "code",
   "execution_count": 35,
   "metadata": {
    "collapsed": true
   },
   "outputs": [],
   "source": [
    "%matplotlib inline\n",
    "import pandas as pd\n",
    "from pandas import set_option\n",
    "#Limit dataframe exibition to 8 rows\n",
    "set_option(\"display.max_rows\", 5)\n",
    "import scipy as sp\n",
    "import matplotlib.pyplot as plt\n",
    "import seaborn as sns\n",
    "import numpy as np"
   ]
  },
  {
   "cell_type": "markdown",
   "metadata": {},
   "source": [
    "#### Os arquivos de entrada foram convertidos para csv para diminuir seu peso e facilitar a manipulação. O conteúdo de nenhuma variável dos arquivos foi alterado"
   ]
  },
  {
   "cell_type": "markdown",
   "metadata": {},
   "source": [
    "##### Os arquivos de entrada tem o mesmo formato, então eu criei uma função que carrega cada um dos arquivos e salva em uma forma melhor para sua manipulação"
   ]
  },
  {
   "cell_type": "markdown",
   "metadata": {},
   "source": [
    "A função abaixo carregará o arquivo csv, depois criará uma coluna de ano para a informação de ano que está no nome das colunas. Depois disso transformarei a coluna \"vl_Arrec\" para numérica. Por último salvarei o dataframe processado em um csv"
   ]
  },
  {
   "cell_type": "code",
   "execution_count": 36,
   "metadata": {
    "collapsed": false
   },
   "outputs": [],
   "source": [
    "def processa_arquivo(path_to_load, id_vars, var_name, value_name, value_vars, column_to_convert, path_to_save):\n",
    "    # Carrega o arquivo na memória\n",
    "    df = pd.read_csv(path_to_load, encoding='latin1', sep=';')\n",
    "    #Como temos a informação do ano no nome das colunas, vou usar o método melt para transformar essa informação em dado e facilitar a análise\n",
    "    df = pd.melt(df, id_vars=id_vars, var_name=var_name, value_name=value_name, value_vars = value_vars)\n",
    "    #Vou converter a variável 'vl_arrec' para int64 para facilitar nos cálculos\n",
    "    df[column_to_convert] = df[column_to_convert].fillna('0').str.replace('.','').astype(np.int64)\n",
    "    # Salva o dataframe\n",
    "    df.to_csv(path_to_save, encoding='latin1')"
   ]
  },
  {
   "cell_type": "markdown",
   "metadata": {},
   "source": [
    "#### Processa arquivo de arrecadação por Estado"
   ]
  },
  {
   "cell_type": "code",
   "execution_count": 37,
   "metadata": {
    "collapsed": true
   },
   "outputs": [],
   "source": [
    "path_to_load = './src/arrec_resumido.csv'\n",
    "id_vars=['cd_ibge','estado']\n",
    "var_name='ano'\n",
    "value_name='vl_arrec'\n",
    "value_vars=['2000', '2001','2002','2003','2004','2005'\\\n",
    "            ,'2006','2007','2008','2009','2010','2011','2012'\\\n",
    "            ,'2013','2014','2015','2016']\n",
    "column_to_convert = 'vl_arrec'\n",
    "path_to_save = './processed/arrec_por_estado.csv'\n",
    "processa_arquivo(path_to_load, id_vars, var_name, value_name, value_vars, column_to_convert, path_to_save)"
   ]
  },
  {
   "cell_type": "markdown",
   "metadata": {},
   "source": [
    "#### Processa arquivo de arrecadação por Município"
   ]
  },
  {
   "cell_type": "code",
   "execution_count": 38,
   "metadata": {
    "collapsed": true
   },
   "outputs": [],
   "source": [
    "path_to_load = './src/arrec_por_municipio.csv'\n",
    "id_vars=['cd_ibge','municipio','estado']\n",
    "var_name='ano'\n",
    "value_name='vl_arrec'\n",
    "value_vars=['2000', '2001','2002','2003','2004','2005'\\\n",
    "            ,'2006','2007','2008','2009','2010','2011','2012'\\\n",
    "            ,'2013','2014','2015','2016']\n",
    "column_to_convert = 'vl_arrec'\n",
    "path_to_save = './processed/arrec_por_municipio.csv'\n",
    "processa_arquivo(path_to_load, id_vars, var_name, value_name, value_vars, column_to_convert, path_to_save)"
   ]
  },
  {
   "cell_type": "markdown",
   "metadata": {},
   "source": [
    "#### Processa arquivo de emissões por Estado"
   ]
  },
  {
   "cell_type": "code",
   "execution_count": 39,
   "metadata": {
    "collapsed": true
   },
   "outputs": [],
   "source": [
    "path_to_load = './src/vl_emitido_por_estado.csv'\n",
    "id_vars=['cd_ibge','estado']\n",
    "var_name='ano'\n",
    "value_name='vl_arrec'\n",
    "value_vars=['2000', '2001','2002','2003','2004','2005'\\\n",
    "            ,'2006','2007','2008','2009','2010','2011','2012'\\\n",
    "            ,'2013','2014','2015','2016']\n",
    "column_to_convert = 'vl_arrec'\n",
    "path_to_save = './processed/emissoes_por_estado.csv'\n",
    "processa_arquivo(path_to_load, id_vars, var_name, value_name, value_vars, column_to_convert, path_to_save)"
   ]
  },
  {
   "cell_type": "markdown",
   "metadata": {},
   "source": [
    "#### Processa arquivo de emissões por Municipio"
   ]
  },
  {
   "cell_type": "code",
   "execution_count": 40,
   "metadata": {
    "collapsed": false
   },
   "outputs": [],
   "source": [
    "path_to_load = './src/vl_emitido_por_municipio.csv'\n",
    "id_vars=['cd_ibge','municipio','estado']\n",
    "var_name='ano'\n",
    "value_name='vl_arrec'\n",
    "value_vars=['2000', '2001','2002','2003','2004','2005'\\\n",
    "            ,'2006','2007','2008','2009','2010','2011','2012'\\\n",
    "            ,'2013','2014','2015','2016']\n",
    "column_to_convert = 'vl_arrec'\n",
    "path_to_save = './processed/emissoes_por_municipio.csv'\n",
    "processa_arquivo(path_to_load, id_vars, var_name, value_name, value_vars, column_to_convert, path_to_save)"
   ]
  },
  {
   "cell_type": "markdown",
   "metadata": {},
   "source": [
    "#### Processa arquivo de arrecadações ignoradas"
   ]
  },
  {
   "cell_type": "code",
   "execution_count": 45,
   "metadata": {
    "collapsed": true
   },
   "outputs": [],
   "source": [
    "path_to_load = './src/arrec_ignorado.csv'\n",
    "id_vars=['cd_ibge','estado']\n",
    "var_name='ano'\n",
    "value_name='vl_arrec'\n",
    "value_vars=['2000', '2001','2002','2003','2004','2005'\\\n",
    "            ,'2006','2007','2008','2009','2010','2011','2012'\\\n",
    "            ,'2013','2014','2015','2016']\n",
    "column_to_convert = 'vl_arrec'\n",
    "path_to_save = './processed/arrec_ignorado.csv'\n",
    "processa_arquivo(path_to_load, id_vars, var_name, value_name, value_vars, column_to_convert, path_to_save)"
   ]
  }
 ],
 "metadata": {
  "anaconda-cloud": {},
  "kernelspec": {
   "display_name": "Python [default]",
   "language": "python",
   "name": "python3"
  },
  "language_info": {
   "codemirror_mode": {
    "name": "ipython",
    "version": 3
   },
   "file_extension": ".py",
   "mimetype": "text/x-python",
   "name": "python",
   "nbconvert_exporter": "python",
   "pygments_lexer": "ipython3",
   "version": "3.5.2"
  }
 },
 "nbformat": 4,
 "nbformat_minor": 1
}
